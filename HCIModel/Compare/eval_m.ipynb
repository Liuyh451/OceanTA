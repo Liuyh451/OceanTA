{
 "cells": [
  {
   "metadata": {
    "ExecuteTime": {
     "end_time": "2024-10-27T08:23:10.563868Z",
     "start_time": "2024-10-27T08:23:10.548192Z"
    }
   },
   "cell_type": "code",
   "source": [
    "def inverse_standardize(data, means, stds):\n",
    "    \"\"\"\n",
    "    对标准化数据进行反标准化。\n",
    "\n",
    "    参数：\n",
    "    data: np.ndarray - 标准化后的数据。\n",
    "    means: np.ndarray - 每个通道的均值。\n",
    "    stds: np.ndarray - 每个通道的标准差。\n",
    "\n",
    "    返回：\n",
    "    original_data: np.ndarray - 反标准化后的数据。\n",
    "    \"\"\"\n",
    "    original_data = data * stds + means\n",
    "    return original_data\n"
   ],
   "id": "52b7ecf402eb376b",
   "outputs": [],
   "execution_count": 1
  },
  {
   "metadata": {
    "ExecuteTime": {
     "end_time": "2024-10-27T12:34:18.193654Z",
     "start_time": "2024-10-27T12:34:18.110390Z"
    }
   },
   "cell_type": "code",
   "source": [
    "import numpy as np\n",
    "mean = np.load('../data/dt1/mean.npy')\n",
    "std = np.load('../data/dt1/std.npy')\n",
    "pre_data_1=np.load('data/MultiOutput/predictions.npy')\n",
    "# 对每个通道（mode）进行反标准化\n",
    "# mean[i] 和 std[i] 分别为每个 mode 的均值和标准差\n",
    "predictions_inverse = np.zeros_like(pre_data_1)  # 创建一个与 pre_data_1 形状相同的数组\n",
    "for i in range(pre_data_1.shape[1]):\n",
    "    predictions_inverse[:, i] = inverse_standardize(pre_data_1[:, i], mean[i], std[i])\n",
    "\n",
    "# 保存反标准化后的数据\n",
    "np.save('data/MultiOutput/predictions_inverse.npy', predictions_inverse)\n",
    "print(\"反标准化后的数据已保存为 'data/MultiOutput/predictions_inverse.npy'\")"
   ],
   "id": "9c56c741a878e9fd",
   "outputs": [
    {
     "name": "stdout",
     "output_type": "stream",
     "text": [
      "反标准化后的数据已保存为 'data/MultiOutput/predictions_inverse.npy'\n"
     ]
    }
   ],
   "execution_count": 8
  },
  {
   "cell_type": "code",
   "id": "initial_id",
   "metadata": {
    "collapsed": true,
    "ExecuteTime": {
     "end_time": "2024-10-27T12:34:22.137736Z",
     "start_time": "2024-10-27T12:34:22.096087Z"
    }
   },
   "source": [
    "import numpy as np\n",
    "from Ablation.model import AnticipationModule\n",
    "def anticipate_mode_ori(data_path):\n",
    "    predication = np.load(data_path)\n",
    "    anticipation_module = AnticipationModule()\n",
    "    prediction_data = anticipation_module(predication)\n",
    "    return prediction_data\n",
    "anticipate_data = anticipate_mode_ori('data/MultiOutput/predictions_inverse.npy')\n",
    "print(anticipate_data.shape)\n",
    "np.save('data/MultiOutput/predictions_inverse_final', anticipate_data)"
   ],
   "outputs": [
    {
     "name": "stdout",
     "output_type": "stream",
     "text": [
      "(600, 1)\n"
     ]
    }
   ],
   "execution_count": 9
  },
  {
   "metadata": {
    "ExecuteTime": {
     "end_time": "2024-10-27T12:34:25.341611Z",
     "start_time": "2024-10-27T12:34:25.220145Z"
    }
   },
   "cell_type": "code",
   "source": [
    "import pandas as pd\n",
    "import numpy as np\n",
    "def extract_label():\n",
    "    file_path = 'E:/Dataset/waves/'\n",
    "    file_path_ori = file_path + 'dataset1.csv'\n",
    "    data = pd.read_csv(file_path_ori)\n",
    "    # 忽略 'Date/Time' 列\n",
    "    if 'Date/Time' in data.columns:\n",
    "        data = data.drop(columns=['Date/Time'])\n",
    "    mwh_data = data['MWH'].values[-600:]  # 提取最后 600 行的 MWH 列\n",
    "    mwh_data=mwh_data.reshape(-1, 1) \n",
    "    return mwh_data\n",
    "original_data = extract_label()\n",
    "original_data.shape"
   ],
   "id": "ca76b8c723308449",
   "outputs": [
    {
     "data": {
      "text/plain": [
       "(600, 1)"
      ]
     },
     "execution_count": 10,
     "metadata": {},
     "output_type": "execute_result"
    }
   ],
   "execution_count": 10
  },
  {
   "metadata": {
    "ExecuteTime": {
     "end_time": "2024-10-27T12:34:28.523980Z",
     "start_time": "2024-10-27T12:34:28.510263Z"
    }
   },
   "cell_type": "code",
   "source": [
    "from Ablation.model import ModelEvaluator\n",
    "\n",
    "#源数据的数据评测\n",
    "predictions_inverse_final=np.load('data/MultiOutput/predictions_inverse_final.npy')\n",
    "evaluator = ModelEvaluator(anticipate_data, original_data)\n",
    "print(f\"Root Mean Squared Error (RMSE): {evaluator.rmse()}\")\n",
    "print(f\"Mean Absolute Error (MAE): {evaluator.mae()}\")\n",
    "print(f\"Sum of Squared Errors (SSE): {evaluator.sse()}\")\n",
    "print(f\"Mean Absolute Percentage Error (MAPE): {evaluator.mape()}\")\n",
    "print(f\"Theil's Inequality Coefficient (TIC): {evaluator.tic()}\")"
   ],
   "id": "86abe69d3b778b2e",
   "outputs": [
    {
     "name": "stdout",
     "output_type": "stream",
     "text": [
      "Root Mean Squared Error (RMSE): 0.2909750699869967\n",
      "Mean Absolute Error (MAE): 0.1910496585528056\n",
      "Sum of Squared Errors (SSE): 50.79989481236257\n",
      "Mean Absolute Percentage Error (MAPE): 7.271417070537563\n",
      "Theil's Inequality Coefficient (TIC): 0.11696020916752838\n"
     ]
    }
   ],
   "execution_count": 11
  },
  {
   "metadata": {},
   "cell_type": "code",
   "outputs": [],
   "execution_count": null,
   "source": "",
   "id": "f95e2919aa791f14"
  }
 ],
 "metadata": {
  "kernelspec": {
   "display_name": "Python 3",
   "language": "python",
   "name": "python3"
  },
  "language_info": {
   "codemirror_mode": {
    "name": "ipython",
    "version": 2
   },
   "file_extension": ".py",
   "mimetype": "text/x-python",
   "name": "python",
   "nbconvert_exporter": "python",
   "pygments_lexer": "ipython2",
   "version": "2.7.6"
  }
 },
 "nbformat": 4,
 "nbformat_minor": 5
}
