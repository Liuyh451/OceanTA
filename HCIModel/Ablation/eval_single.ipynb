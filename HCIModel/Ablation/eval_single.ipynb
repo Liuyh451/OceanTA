{
 "cells": [
  {
   "cell_type": "code",
   "id": "initial_id",
   "metadata": {
    "collapsed": true,
    "ExecuteTime": {
     "end_time": "2024-10-27T12:23:50.087594Z",
     "start_time": "2024-10-27T12:23:50.069355Z"
    }
   },
   "source": [
    "def inverse_standardize(data, means, stds):\n",
    "    \"\"\"\n",
    "    对标准化数据进行反标准化。\n",
    "\n",
    "    参数：\n",
    "    data: np.ndarray - 标准化后的数据。\n",
    "    means: np.ndarray - 每个通道的均值。\n",
    "    stds: np.ndarray - 每个通道的标准差。\n",
    "\n",
    "    返回：\n",
    "    original_data: np.ndarray - 反标准化后的数据。\n",
    "    \"\"\"\n",
    "    original_data = data * stds + means\n",
    "    return original_data\n"
   ],
   "outputs": [],
   "execution_count": 1
  },
  {
   "metadata": {
    "ExecuteTime": {
     "end_time": "2024-10-27T12:26:01.174219Z",
     "start_time": "2024-10-27T12:26:00.979074Z"
    }
   },
   "cell_type": "code",
   "source": [
    "import numpy as np\n",
    "\n",
    "mean = np.load('../data/dt1/mean.npy')\n",
    "std = np.load('../data/dt1/std.npy')\n",
    "predictions_data_single=np.load('./data/single/predictions.npy')\n",
    "predictions_inverse = np.zeros_like(predictions_data_single)  # 创建一个与 pre_data_1 形状相同的数组\n",
    "for i in range(predictions_data_single.shape[1]):\n",
    "    predictions_inverse[:, i] = inverse_standardize(predictions_data_single[:, i], mean[i], std[i])\n",
    "# 保存反标准化后的数据\n",
    "np.save('data/single/predictions_inverse.npy', predictions_inverse)\n",
    "print(\"反标准化后的数据已保存为 'data/predictions_inverse.npy'\")"
   ],
   "id": "536eae03d807e39c",
   "outputs": [
    {
     "name": "stdout",
     "output_type": "stream",
     "text": [
      "反标准化后的数据已保存为 'data/predictions_inverse.npy'\n"
     ]
    }
   ],
   "execution_count": 2
  },
  {
   "metadata": {
    "ExecuteTime": {
     "end_time": "2024-10-27T12:26:19.372534Z",
     "start_time": "2024-10-27T12:26:19.358821Z"
    }
   },
   "cell_type": "code",
   "source": "predictions_inverse.shape",
   "id": "95155bd577dacc56",
   "outputs": [
    {
     "data": {
      "text/plain": [
       "(600, 8)"
      ]
     },
     "execution_count": 3,
     "metadata": {},
     "output_type": "execute_result"
    }
   ],
   "execution_count": 3
  },
  {
   "metadata": {
    "ExecuteTime": {
     "end_time": "2024-10-27T12:28:06.848498Z",
     "start_time": "2024-10-27T12:28:04.672449Z"
    }
   },
   "cell_type": "code",
   "source": [
    "from Ablation.model import AnticipationModule\n",
    "def anticipate_mode_ori(data_path):\n",
    "    predication = np.load(data_path)\n",
    "    anticipation_module = AnticipationModule()\n",
    "    prediction_data = anticipation_module(predication)\n",
    "    return prediction_data\n",
    "anticipate_data = anticipate_mode_ori('data/single/predictions_inverse.npy')\n",
    "print(anticipate_data.shape)\n",
    "np.save('data/single/predictions_inverse_final.npy', anticipate_data)"
   ],
   "id": "44d03506a36eeb19",
   "outputs": [
    {
     "name": "stdout",
     "output_type": "stream",
     "text": [
      "(600, 1)\n"
     ]
    }
   ],
   "execution_count": 4
  },
  {
   "metadata": {
    "ExecuteTime": {
     "end_time": "2024-10-27T12:28:44.338658Z",
     "start_time": "2024-10-27T12:28:43.609902Z"
    }
   },
   "cell_type": "code",
   "source": [
    "import pandas as pd\n",
    "def extract_label():\n",
    "    file_path = 'E:/Dataset/waves/'\n",
    "    file_path_ori = file_path + 'dataset1.csv'\n",
    "    data = pd.read_csv(file_path_ori)\n",
    "    # 忽略 'Date/Time' 列\n",
    "    if 'Date/Time' in data.columns:\n",
    "        data = data.drop(columns=['Date/Time'])\n",
    "    mwh_data = data['MWH'].values[-600:]  # 提取最后 600 行的 MWH 列\n",
    "    mwh_data=mwh_data.reshape(-1, 1) \n",
    "    return mwh_data"
   ],
   "id": "ae90a73aa830354",
   "outputs": [],
   "execution_count": 7
  },
  {
   "metadata": {
    "ExecuteTime": {
     "end_time": "2024-10-27T12:28:45.748647Z",
     "start_time": "2024-10-27T12:28:45.723178Z"
    }
   },
   "cell_type": "code",
   "source": [
    "original_data = extract_label()\n",
    "original_data.shape"
   ],
   "id": "19ffe3bdde331faa",
   "outputs": [
    {
     "data": {
      "text/plain": [
       "(600, 1)"
      ]
     },
     "execution_count": 8,
     "metadata": {},
     "output_type": "execute_result"
    }
   ],
   "execution_count": 8
  },
  {
   "metadata": {
    "ExecuteTime": {
     "end_time": "2024-10-27T12:29:15.036073Z",
     "start_time": "2024-10-27T12:29:15.026276Z"
    }
   },
   "cell_type": "code",
   "source": [
    "from Ablation.model import ModelEvaluator\n",
    "#源数据的数据评测\n",
    "predictions_inverse_final=np.load('data/single/predictions_inverse_final.npy')\n",
    "evaluator = ModelEvaluator(predictions_inverse_final, original_data)\n",
    "print(f\"Root Mean Squared Error (RMSE): {evaluator.rmse()}\")\n",
    "print(f\"Mean Absolute Error (MAE): {evaluator.mae()}\")\n",
    "print(f\"Sum of Squared Errors (SSE): {evaluator.sse()}\")\n",
    "print(f\"Mean Absolute Percentage Error (MAPE): {evaluator.mape()}\")\n",
    "print(f\"Theil's Inequality Coefficient (TIC): {evaluator.tic()}\")"
   ],
   "id": "ef3aa9749dee9cb9",
   "outputs": [
    {
     "name": "stdout",
     "output_type": "stream",
     "text": [
      "Root Mean Squared Error (RMSE): 0.14983896174524994\n",
      "Mean Absolute Error (MAE): 0.11568351312239965\n",
      "Sum of Squared Errors (SSE): 13.471028674136686\n",
      "Mean Absolute Percentage Error (MAPE): 4.830199890085517\n",
      "Theil's Inequality Coefficient (TIC): 0.05624039376421019\n"
     ]
    }
   ],
   "execution_count": 9
  },
  {
   "metadata": {},
   "cell_type": "code",
   "outputs": [],
   "execution_count": null,
   "source": "",
   "id": "b4b8ab607f73e892"
  },
  {
   "metadata": {},
   "cell_type": "code",
   "outputs": [],
   "execution_count": null,
   "source": "",
   "id": "617bd0be23d75551"
  }
 ],
 "metadata": {
  "kernelspec": {
   "display_name": "Python 3",
   "language": "python",
   "name": "python3"
  },
  "language_info": {
   "codemirror_mode": {
    "name": "ipython",
    "version": 2
   },
   "file_extension": ".py",
   "mimetype": "text/x-python",
   "name": "python",
   "nbconvert_exporter": "python",
   "pygments_lexer": "ipython2",
   "version": "2.7.6"
  }
 },
 "nbformat": 4,
 "nbformat_minor": 5
}
