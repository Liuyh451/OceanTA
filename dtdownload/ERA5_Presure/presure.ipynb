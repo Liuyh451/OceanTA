{
 "cells": [
  {
   "cell_type": "code",
   "id": "initial_id",
   "metadata": {
    "collapsed": true,
    "ExecuteTime": {
     "end_time": "2025-04-20T03:38:04.635316Z",
     "start_time": "2025-04-20T03:38:04.099968Z"
    }
   },
   "source": [
    "from netCDF4 import Dataset\n",
    "\n",
    "# 文件路径\n",
    "file_path = r'E:\\Dataset\\ERA5\\Presure\\Divergence\\2001-2005\\divergence2001_2005.nc'\n",
    "\n",
    "# 打开文件\n",
    "dataset = Dataset(file_path, mode='r')\n",
    "\n",
    "# 打印全部变量名\n",
    "print(\"变量列表：\", dataset.variables.keys())\n",
    "\n",
    "# 读取经纬度\n",
    "lats = dataset.variables['latitude'][:]\n",
    "lons = dataset.variables['longitude'][:]\n",
    "\n",
    "# 打印经纬度范围和分辨率\n",
    "print(f\"纬度范围: {lats.min()} 到 {lats.max()}，共 {len(lats)} 个纬度点\")\n",
    "print(f\"经度范围: {lons.min()} 到 {lons.max()}，共 {len(lons)} 个经度点\")\n",
    "\n",
    "# 网格形状\n",
    "print(f\"网格总形状: {len(lats)} × {len(lons)}，总网格数: {len(lats) * len(lons)}\")\n",
    "\n",
    "# 打印维度信息\n",
    "print(\"\\n维度信息:\")\n",
    "for dim in dataset.dimensions.values():\n",
    "    print(f\"{dim.name}: {len(dim)}\")\n",
    "\n",
    "# 打印变量的基本信息（维度、单位等）\n",
    "print(\"\\n变量详细信息:\")\n",
    "for var_name, var in dataset.variables.items():\n",
    "    print(f\"{var_name}: 维度 {var.dimensions}, 形状 {var.shape}, 单位: {getattr(var, 'units', '无单位')}\")\n",
    "\n",
    "# 关闭文件\n",
    "dataset.close()\n"
   ],
   "outputs": [
    {
     "name": "stdout",
     "output_type": "stream",
     "text": [
      "变量列表： dict_keys(['number', 'valid_time', 'pressure_level', 'latitude', 'longitude', 'expver', 'd'])\n",
      "纬度范围: 0.0 到 65.0，共 261 个纬度点\n",
      "经度范围: 90.0 到 180.0，共 361 个经度点\n",
      "网格总形状: 261 × 361，总网格数: 94221\n",
      "\n",
      "维度信息:\n",
      "valid_time: 7304\n",
      "pressure_level: 1\n",
      "latitude: 261\n",
      "longitude: 361\n",
      "\n",
      "变量详细信息:\n",
      "number: 维度 (), 形状 (), 单位: 1\n",
      "valid_time: 维度 ('valid_time',), 形状 (7304,), 单位: seconds since 1970-01-01\n",
      "pressure_level: 维度 ('pressure_level',), 形状 (1,), 单位: hPa\n",
      "latitude: 维度 ('latitude',), 形状 (261,), 单位: degrees_north\n",
      "longitude: 维度 ('longitude',), 形状 (361,), 单位: degrees_east\n",
      "expver: 维度 ('valid_time',), 形状 (7304,), 单位: 无单位\n",
      "d: 维度 ('valid_time', 'pressure_level', 'latitude', 'longitude'), 形状 (7304, 1, 261, 361), 单位: s**-1\n"
     ]
    }
   ],
   "execution_count": 1
  },
  {
   "metadata": {
    "ExecuteTime": {
     "end_time": "2025-04-20T09:20:45.299306Z",
     "start_time": "2025-04-20T09:20:45.267213Z"
    }
   },
   "cell_type": "code",
   "source": [
    "\n",
    "from Utils import data_information\n",
    "file_path=r'E:\\Dataset\\ERA5\\Presure\\WindSpeed\\V-component of wind\\VWind2001_2005.nc'\n",
    "data_information(file_path)"
   ],
   "id": "2fa53f20831e3fd3",
   "outputs": [
    {
     "name": "stdout",
     "output_type": "stream",
     "text": [
      "变量列表： dict_keys(['number', 'valid_time', 'pressure_level', 'latitude', 'longitude', 'expver', 'v'])\n",
      "纬度范围: 0.0 到 65.0，共 261 个纬度点\n",
      "经度范围: 90.0 到 180.0，共 361 个经度点\n",
      "网格总形状: 261 × 361，总网格数: 94221\n",
      "\n",
      "维度信息:\n",
      "valid_time: 7304\n",
      "pressure_level: 1\n",
      "latitude: 261\n",
      "longitude: 361\n",
      "\n",
      "变量详细信息:\n",
      "number: 维度 (), 形状 (), 单位: 1\n",
      "valid_time: 维度 ('valid_time',), 形状 (7304,), 单位: seconds since 1970-01-01\n",
      "pressure_level: 维度 ('pressure_level',), 形状 (1,), 单位: hPa\n",
      "latitude: 维度 ('latitude',), 形状 (261,), 单位: degrees_north\n",
      "longitude: 维度 ('longitude',), 形状 (361,), 单位: degrees_east\n",
      "expver: 维度 ('valid_time',), 形状 (7304,), 单位: 无单位\n",
      "v: 维度 ('valid_time', 'pressure_level', 'latitude', 'longitude'), 形状 (7304, 1, 261, 361), 单位: m s**-1\n"
     ]
    }
   ],
   "execution_count": 9
  },
  {
   "metadata": {
    "ExecuteTime": {
     "end_time": "2025-04-20T09:03:05.232965Z",
     "start_time": "2025-04-20T09:03:05.142244Z"
    }
   },
   "cell_type": "code",
   "source": [
    "from Utils import data_information\n",
    "file_path=r'E:\\Dataset\\ERA5\\Presure\\WindSpeed\\U-component of wind\\2001-2005 200hPa.nc'\n",
    "data_information(file_path)"
   ],
   "id": "d69db9a3b6094197",
   "outputs": [
    {
     "name": "stdout",
     "output_type": "stream",
     "text": [
      "变量列表： dict_keys(['number', 'valid_time', 'pressure_level', 'latitude', 'longitude', 'expver', 'u'])\n",
      "纬度范围: 0.0 到 65.0，共 261 个纬度点\n",
      "经度范围: 90.0 到 180.0，共 361 个经度点\n",
      "网格总形状: 261 × 361，总网格数: 94221\n",
      "\n",
      "维度信息:\n",
      "valid_time: 7304\n",
      "pressure_level: 1\n",
      "latitude: 261\n",
      "longitude: 361\n",
      "\n",
      "变量详细信息:\n",
      "number: 维度 (), 形状 (), 单位: 1\n",
      "valid_time: 维度 ('valid_time',), 形状 (7304,), 单位: seconds since 1970-01-01\n",
      "pressure_level: 维度 ('pressure_level',), 形状 (1,), 单位: hPa\n",
      "latitude: 维度 ('latitude',), 形状 (261,), 单位: degrees_north\n",
      "longitude: 维度 ('longitude',), 形状 (361,), 单位: degrees_east\n",
      "expver: 维度 ('valid_time',), 形状 (7304,), 单位: 无单位\n",
      "u: 维度 ('valid_time', 'pressure_level', 'latitude', 'longitude'), 形状 (7304, 1, 261, 361), 单位: m s**-1\n"
     ]
    }
   ],
   "execution_count": 7
  },
  {
   "metadata": {
    "ExecuteTime": {
     "end_time": "2025-04-20T09:34:27.095193Z",
     "start_time": "2025-04-20T09:34:27.061164Z"
    }
   },
   "cell_type": "code",
   "source": [
    "from Utils import data_information\n",
    "file_path=r'E:\\Dataset\\ERA5\\Presure\\Geopotential\\2001_05.nc'\n",
    "data_information(file_path)"
   ],
   "id": "3b0607a17b9548b9",
   "outputs": [
    {
     "name": "stdout",
     "output_type": "stream",
     "text": [
      "变量列表： dict_keys(['number', 'valid_time', 'pressure_level', 'latitude', 'longitude', 'expver', 'z'])\n",
      "纬度范围: 0.0 到 65.0，共 261 个纬度点\n",
      "经度范围: 90.0 到 180.0，共 361 个经度点\n",
      "网格总形状: 261 × 361，总网格数: 94221\n",
      "\n",
      "维度信息:\n",
      "valid_time: 7304\n",
      "pressure_level: 2\n",
      "latitude: 261\n",
      "longitude: 361\n",
      "\n",
      "变量详细信息:\n",
      "number: 维度 (), 形状 (), 单位: 1\n",
      "valid_time: 维度 ('valid_time',), 形状 (7304,), 单位: seconds since 1970-01-01\n",
      "pressure_level: 维度 ('pressure_level',), 形状 (2,), 单位: hPa\n",
      "latitude: 维度 ('latitude',), 形状 (261,), 单位: degrees_north\n",
      "longitude: 维度 ('longitude',), 形状 (361,), 单位: degrees_east\n",
      "expver: 维度 ('valid_time',), 形状 (7304,), 单位: 无单位\n",
      "z: 维度 ('valid_time', 'pressure_level', 'latitude', 'longitude'), 形状 (7304, 2, 261, 361), 单位: m**2 s**-2\n"
     ]
    }
   ],
   "execution_count": 10
  },
  {
   "metadata": {
    "ExecuteTime": {
     "end_time": "2025-04-20T03:48:19.252463Z",
     "start_time": "2025-04-20T03:48:18.313248Z"
    }
   },
   "cell_type": "code",
   "source": [
    "import os\n",
    "import pandas as pd\n",
    "\n",
    "# 设置数据路径\n",
    "data_dir = r\"E:\\Dataset\\CMA\\CMABSTdata\"\n",
    "\n",
    "# 存储所有台风路径点\n",
    "all_lats = []\n",
    "all_lons = []\n",
    "\n",
    "# 遍历 2001~2005 年\n",
    "for year in range(2001, 2006):\n",
    "    file_path = os.path.join(data_dir, f\"CH{year}BST.txt\")\n",
    "    if not os.path.exists(file_path):\n",
    "        print(f\"文件不存在：{file_path}\")\n",
    "        continue\n",
    "\n",
    "    with open(file_path, 'r', encoding='utf-8') as f:\n",
    "        lines = f.readlines()\n",
    "\n",
    "    for line in lines:\n",
    "        if line.strip() == \"\" or line.startswith(\"66666\"):\n",
    "            continue  # 跳过空行或头行\n",
    "\n",
    "        parts = line.strip().split()\n",
    "        if len(parts) < 6:\n",
    "            continue  # 非数据行\n",
    "\n",
    "        try:\n",
    "            lat = float(parts[2]) / 10  # 纬度\n",
    "            lon = float(parts[3]) / 10  # 经度\n",
    "            all_lats.append(lat)\n",
    "            all_lons.append(lon)\n",
    "        except:\n",
    "            continue  # 防止异常数据\n",
    "\n",
    "# 输出经纬度范围\n",
    "if all_lats and all_lons:\n",
    "    print(f\"台风路径纬度范围：{min(all_lats):.1f}°N ~ {max(all_lats):.1f}°N\")\n",
    "    print(f\"台风路径经度范围：{min(all_lons):.1f}°E ~ {max(all_lons):.1f}°E\")\n",
    "else:\n",
    "    print(\"没有读取到台风路径数据\")\n"
   ],
   "id": "82cee0a6fdddcc0",
   "outputs": [
    {
     "name": "stdout",
     "output_type": "stream",
     "text": [
      "台风路径纬度范围：4.8°N ~ 50.9°N\n",
      "台风路径经度范围：99.8°E ~ 180.4°E\n"
     ]
    }
   ],
   "execution_count": 3
  },
  {
   "metadata": {
    "ExecuteTime": {
     "end_time": "2025-04-20T05:56:53.921591Z",
     "start_time": "2025-04-20T05:56:53.836940Z"
    }
   },
   "cell_type": "code",
   "source": [
    "import numpy as np\n",
    "\n",
    "# 路径替换为你的实际路径\n",
    "load_path = r\"E:\\Dataset\\ERA5\\Extracted\\Divergence.npy\"\n",
    "\n",
    "# 读取 object 类型的 numpy 文件\n",
    "patches = np.load(load_path, allow_pickle=True)\n",
    "\n",
    "print(f\"共加载 {len(patches)} 个 patch\")\n"
   ],
   "id": "6b9018f6bac51023",
   "outputs": [
    {
     "name": "stdout",
     "output_type": "stream",
     "text": [
      "共加载 863 个 patch\n"
     ]
    }
   ],
   "execution_count": 2
  },
  {
   "metadata": {
    "ExecuteTime": {
     "end_time": "2025-04-20T05:57:02.227670Z",
     "start_time": "2025-04-20T05:57:02.213785Z"
    }
   },
   "cell_type": "code",
   "source": [
    "for i in range(3):  # 打印前3个\n",
    "    patch = patches[i]\n",
    "    print(f\"\\n第 {i+1} 个 patch:\")\n",
    "    print(f\"  类型: {type(patch)}\")\n",
    "    print(f\"  形状: {patch.shape}\")\n",
    "    print(f\"  最小值: {np.min(patch):.3e}, 最大值: {np.max(patch):.3e}\")\n",
    "    print(f\"  数据样本:\\n{patch[0]}\")  # 打印第一层（如只有一层）\n"
   ],
   "id": "c11c54b571a6ba14",
   "outputs": [
    {
     "name": "stdout",
     "output_type": "stream",
     "text": [
      "\n",
      "第 1 个 patch:\n",
      "  类型: <class 'numpy.ma.MaskedArray'>\n",
      "  形状: (40, 41)\n",
      "  最小值: -1.361e-04, 最大值: 1.007e-04\n",
      "  数据样本:\n",
      "[-1.371302641928196e-05 -1.4070654287934303e-05 -1.8064165487885475e-05\n",
      " -9.123468771576881e-06 1.254281960427761e-05 2.15133186429739e-05\n",
      " 1.2155389413237572e-05 -5.6067947298288345e-06 -1.1686468496918678e-05\n",
      " -3.848457708954811e-06 -6.596092134714127e-07 8.22148285806179e-06\n",
      " 1.2632226571440697e-05 1.2334203347563744e-05 1.6148900613188744e-05\n",
      " 3.035878762602806e-06 1.4569377526640892e-05 1.5016412362456322e-05\n",
      " -1.4368677511811256e-05 -3.1033996492624283e-06 -3.818655386567116e-06\n",
      " -2.6587629690766335e-05 -4.4320011511445045e-05 7.112976163625717e-07\n",
      " 0.00010066828690469265 6.72896858304739e-05 -3.490247763693333e-05\n",
      " -5.168118514120579e-05 -1.696147955954075e-05 -8.467817679047585e-06\n",
      " -3.901519812643528e-05 -8.94465483725071e-06 1.1887168511748314e-05\n",
      " -1.612701453268528e-05 -6.858492270112038e-06 -1.6156816855072975e-05\n",
      " -1.4249468222260475e-05 9.68179665505886e-06 7.893657311797142e-06\n",
      " 8.66851769387722e-06 -4.802132025361061e-06]\n",
      "\n",
      "第 2 个 patch:\n",
      "  类型: <class 'numpy.ma.MaskedArray'>\n",
      "  形状: (40, 40)\n",
      "  最小值: -1.168e-04, 最大值: 7.867e-05\n",
      "  数据样本:\n",
      "[-7.760012522339821e-06 -2.2214138880372047e-05 -2.620765008032322e-05\n",
      " -2.4061882868409157e-05 -2.9724324122071266e-05 -2.3108208552002907e-05\n",
      " -1.544901169836521e-05 -1.5627825632691383e-05 -2.003856934607029e-05\n",
      " -2.7936184778809547e-05 -2.734013833105564e-05 -1.7088139429688454e-05\n",
      " -3.7068966776132584e-06 8.750474080443382e-06 2.001575194299221e-05\n",
      " 2.001575194299221e-05 1.4651333913207054e-05 1.664808951318264e-05\n",
      " 2.1565472707152367e-05 3.0237948521971703e-05 2.0701205357909203e-05\n",
      " -5.8228615671396255e-06 -1.5866244211792946e-05 -2.593942917883396e-05\n",
      " -1.3958895578980446e-05 3.9893900975584984e-05 3.736070357263088e-05\n",
      " -6.2996987253427505e-06 1.3578450307250023e-05 4.117540083825588e-05\n",
      " 2.4128472432494164e-05 -3.82610596716404e-06 -1.7833197489380836e-05\n",
      " -9.518349543213844e-06 -4.630768671631813e-06 -1.0544899851083755e-06\n",
      " 4.399335011839867e-06 -3.468478098511696e-06 -3.0512455850839615e-06\n",
      " 1.6873236745595932e-06]\n",
      "\n",
      "第 3 个 patch:\n",
      "  类型: <class 'numpy.ma.MaskedArray'>\n",
      "  形状: (40, 41)\n",
      "  最小值: -3.733e-04, 最大值: 9.651e-05\n",
      "  数据样本:\n",
      "[-5.057547241449356e-06 -2.8819777071475983e-06 -7.660128176212311e-07\n",
      " 1.6221310943365097e-05 1.4731194823980331e-05 1.3807322829961777e-05\n",
      " 1.0916497558355331e-05 2.4228356778621674e-06 7.837079465389252e-07\n",
      " -1.1912081390619278e-05 -1.730630174279213e-05 -1.5309546142816544e-05\n",
      " -8.812639862298965e-06 -5.444977432489395e-06 -1.2210104614496231e-05\n",
      " -6.398651748895645e-06 2.4526380002498627e-06 1.6042497009038925e-05\n",
      " 3.025820478796959e-05 2.167513594031334e-05 4.032161086797714e-06\n",
      " 3.436114639043808e-06 3.525521606206894e-06 -1.3918615877628326e-06\n",
      " 9.923242032527924e-07 -5.772802978754044e-06 2.3940112441778183e-05\n",
      " 4.176190122961998e-05 1.916196197271347e-06 2.9513146728277206e-05\n",
      " 6.45010732114315e-05 2.879789099097252e-05 -8.484814316034317e-06\n",
      " -2.1031592041254044e-05 -4.312489181756973e-06 -3.4780241549015045e-06\n",
      " -3.6568380892276764e-06 7.0123933255672455e-06 -7.362104952335358e-07\n",
      " -2.0954757928848267e-08 -8.604023605585098e-06]\n"
     ]
    }
   ],
   "execution_count": 3
  },
  {
   "metadata": {},
   "cell_type": "code",
   "outputs": [],
   "execution_count": null,
   "source": "\n",
   "id": "47636e373a25271"
  },
  {
   "metadata": {
    "ExecuteTime": {
     "end_time": "2025-04-20T06:07:50.292071Z",
     "start_time": "2025-04-20T06:07:29.042672Z"
    }
   },
   "cell_type": "code",
   "source": [
    "import numpy as np\n",
    "from netCDF4 import Dataset, num2date\n",
    "\n",
    "\n",
    "# 参数设置\n",
    "nc_path = r\"E:\\Dataset\\ERA5\\Presure\\Divergence\\2001-2005\\divergence2001_2005.nc\"\n",
    "target_time = \"2001-05-09 12:00:00\"\n",
    "center_lat = 11.8\n",
    "center_lon = 120\n",
    "half_box = 5.0  # ±5度\n",
    "\n",
    "# 打开nc文件\n",
    "ds = Dataset(nc_path)\n",
    "\n",
    "# 获取必要变量\n",
    "time_var = ds.variables['valid_time']\n",
    "times = num2date(time_var[:], units=time_var.units)\n",
    "\n",
    "lat = ds.variables['latitude'][:]\n",
    "lon = ds.variables['longitude'][:]\n",
    "data = ds.variables['d'][:, 0, :, :]  # shape: (7304, 261, 361)\n",
    "\n",
    "# 找到对应时间的索引\n",
    "time_idx = np.where(times == np.datetime64(target_time))[0][0]\n",
    "print(f\"目标时间索引: {time_idx}, 实际时间: {times[time_idx]}\")\n",
    "\n",
    "# 找到经纬度索引范围\n",
    "lat_min, lat_max = center_lat - half_box, center_lat + half_box\n",
    "lon_min, lon_max = center_lon - half_box, center_lon + half_box\n",
    "\n",
    "lat_idx = np.where((lat >= lat_min) & (lat <= lat_max))[0]\n",
    "lon_idx = np.where((lon >= lon_min) & (lon <= lon_max))[0]\n",
    "\n",
    "# 提取对应 patch\n",
    "patch_from_nc = data[time_idx, lat_idx.min():lat_idx.max()+1, lon_idx.min():lon_idx.max()+1]\n",
    "print(f\"原始数据提取 patch 形状: {patch_from_nc.shape}\")\n",
    "\n",
    "\n",
    "\n",
    "# 读取已保存的 patch 文件进行比对\n",
    "patches = np.load(r\"E:\\Dataset\\ERA5\\Extracted\\Divergence.npy\", allow_pickle=True)\n",
    "patch_saved = patches[0][0]  # 如果你提取的是(时间, 层, lat, lon) 结构，注意这里的维度\n",
    "\n",
    "# 打印差异\n",
    "print(\"手动提取 vs 已保存 patch 的差异 (绝对误差最大值):\", np.abs(patch_from_nc - patch_saved).max())\n"
   ],
   "id": "79c9328e2c705fd2",
   "outputs": [
    {
     "name": "stdout",
     "output_type": "stream",
     "text": [
      "目标时间索引: 514, 实际时间: 2001-05-09 12:00:00\n",
      "原始数据提取 patch 形状: (40, 41)\n",
      "手动提取 vs 已保存 patch 的差异 (绝对误差最大值): 0.00017645955\n"
     ]
    }
   ],
   "execution_count": 5
  },
  {
   "metadata": {
    "ExecuteTime": {
     "end_time": "2025-04-20T08:10:03.940511Z",
     "start_time": "2025-04-20T08:10:03.920028Z"
    }
   },
   "cell_type": "code",
   "source": "print(patch_from_nc)",
   "id": "93019bc377537e57",
   "outputs": [
    {
     "name": "stdout",
     "output_type": "stream",
     "text": [
      "[[-1.3713026e-05 -1.4070654e-05 -1.8064165e-05 ...  7.8936573e-06\n",
      "   8.6685177e-06 -4.8021320e-06]\n",
      " [-1.8719817e-05 -2.1372223e-05 -1.5501166e-05 ...  8.0724712e-06\n",
      "   1.6834354e-05  3.9597508e-06]\n",
      " [-2.3458386e-05 -2.4084235e-05 -7.3055271e-06 ...  2.0822044e-06\n",
      "   1.8920517e-05  8.6089130e-06]\n",
      " ...\n",
      " [ 9.4135758e-06  1.5850877e-05  1.0188436e-05 ...  5.1518437e-06\n",
      "   3.0573225e-05 -3.7793303e-05]\n",
      " [ 2.1692133e-05  2.2288179e-05  2.2610184e-06 ... -1.2997771e-05\n",
      "  -1.7319107e-05 -4.4826651e-05]\n",
      " [ 2.6251888e-05  1.6119098e-05  1.2125587e-05 ...  3.7964201e-05\n",
      "  -9.8089222e-06  7.2082039e-06]]\n"
     ]
    }
   ],
   "execution_count": 6
  },
  {
   "metadata": {},
   "cell_type": "code",
   "outputs": [],
   "execution_count": null,
   "source": "",
   "id": "a254d62df2a6fc97"
  }
 ],
 "metadata": {
  "kernelspec": {
   "display_name": "Python 3",
   "language": "python",
   "name": "python3"
  },
  "language_info": {
   "codemirror_mode": {
    "name": "ipython",
    "version": 2
   },
   "file_extension": ".py",
   "mimetype": "text/x-python",
   "name": "python",
   "nbconvert_exporter": "python",
   "pygments_lexer": "ipython2",
   "version": "2.7.6"
  }
 },
 "nbformat": 4,
 "nbformat_minor": 5
}
