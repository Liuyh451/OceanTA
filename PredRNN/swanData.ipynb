{
 "cells": [
  {
   "cell_type": "code",
   "id": "initial_id",
   "metadata": {
    "collapsed": true,
    "ExecuteTime": {
     "end_time": "2025-03-10T14:13:47.155584Z",
     "start_time": "2025-03-10T14:13:47.127584Z"
    }
   },
   "source": "file_path=\"E:\\Dataset\\met_waves\\Swan_cropped\\swanSula201701_cropped.nc\"",
   "outputs": [],
   "execution_count": 1
  },
  {
   "metadata": {
    "ExecuteTime": {
     "end_time": "2025-03-10T14:18:48.380428Z",
     "start_time": "2025-03-10T14:18:48.354495Z"
    }
   },
   "cell_type": "code",
   "source": [
    "import netCDF4 as nc\n",
    "\n",
    "def read_nc_info(file_path):\n",
    "    # 打开 nc 文件\n",
    "    dataset = nc.Dataset(file_path, 'r')\n",
    "\n",
    "    # 获取所有全局属性\n",
    "    global_attrs = {attr: dataset.getncattr(attr) for attr in dataset.ncattrs()}\n",
    "    \n",
    "    # 获取所有变量\n",
    "    variables = list(dataset.variables.keys())\n",
    "\n",
    "    # 获取经纬度\n",
    "    lat = dataset.variables.get('latitude') or dataset.variables.get('lat')\n",
    "    lon = dataset.variables.get('longitude') or dataset.variables.get('lon')\n",
    "    time = dataset.variables.get('time')\n",
    "\n",
    "    # 读取时间数据\n",
    "    time_values = time[:].data if time is not None else None\n",
    "    time_step = None\n",
    "    if time_values is not None and len(time_values) > 1:\n",
    "        time_step = time_values[1] - time_values[0]  # 计算时间间隔\n",
    "\n",
    "    # 获取每个变量的单位、形状\n",
    "    variable_info = {}\n",
    "    for var_name in variables:\n",
    "        var = dataset.variables[var_name]\n",
    "        variable_info[var_name] = {\n",
    "            \"shape\": var.shape,\n",
    "            \"units\": var.units if \"units\" in var.ncattrs() else \"N/A\",\n",
    "            \"long_name\": var.long_name if \"long_name\" in var.ncattrs() else var_name\n",
    "        }\n",
    "\n",
    "    # 打印信息\n",
    "    print(\"🌍 文件全局属性:\")\n",
    "    for key, value in global_attrs.items():\n",
    "        print(f\"  {key}: {value}\")\n",
    "\n",
    "    print(\"\\n📍 经纬度信息:\")\n",
    "    print(f\"  纬度范围: {lat[:].min()} ~ {lat[:].max()}\" if lat is not None else \"  未找到纬度数据\")\n",
    "    print(f\"  经度范围: {lon[:].min()} ~ {lon[:].max()}\" if lon is not None else \"  未找到经度数据\")\n",
    "\n",
    "    print(\"\\n⏳ 时间信息:\")\n",
    "    print(f\"  共有 {len(time_values)} 个时间步\")\n",
    "    print(f\"  采样时间步长: {time_step}\" if time_step is not None else \"  未找到时间数据或无法计算步长\")\n",
    "\n",
    "    print(\"\\n🌊 变量信息:\")\n",
    "    for var_name, info in variable_info.items():\n",
    "        print(f\"  {var_name}: {info['long_name']} (单位: {info['units']}, 形状: {info['shape']})\")\n",
    "\n",
    "    # 关闭文件\n",
    "    dataset.close()\n",
    "\n",
    "read_nc_info(file_path)\n"
   ],
   "id": "58d7f416daadfdcc",
   "outputs": [
    {
     "name": "stdout",
     "output_type": "stream",
     "text": [
      "🌍 文件全局属性:\n",
      "  Conventions: CF-1.5\n",
      "  History: Thu Sep 30 11:31:36 2021: ncks -4 /lustre/storeB/project/fou/om/SWAN/Sula/INNER/Ut/swani_20170101.nc /lustre/storeB/project/SVV/E39/model/SWAN250/Sula/swanSula201701.nc\n",
      "Created with agioncmd version 1.4\n",
      "  Directional_convention: nautical\n",
      "  project: Sula i\n",
      "  run: T24\n",
      "  NCO: 4.7.2\n",
      "  institution: Norwegian Meteorological Institute, MET Norway\n",
      "  title: Spectral wave simulations in Norwegian fjords\n",
      "  summary: Hindcast simulations with the wave model SWAN (https://www.tudelft.nl/en/ceg/about-faculty/departments/hydraulic-engineering/sections/environmental-fluid-mechanics/research/swan) nested into the wave model WAM (hindcast data set NORA10, Reistad et al., 2011). Winds from WRF at 500m grid resolution are provided by Kjeller Vindteknikk/Norconsult. The grid spacing is 250m.\n",
      "  acknowledgement: The simulations are performed under collaboration with the Norwegian Public Roads Administration connected to the Coastal Highway E39-project in mid-Norway.\n",
      "  license: https://www.met.no/en/free-meteorological-data/Licensing-and-crediting\n",
      "  geospatial_lat_min: 62.0\n",
      "  geospatial_lat_max: 62.6\n",
      "  geospatial_lon_min: 5.3\n",
      "  geospatial_lon_max: 6.8\n",
      "  references: Furevik, B. R. and O. J. Aarnes (2021) Wave conditions in Sulafjorden,\n",
      "Vartdalsfjorden, Halsafjorden and Julsundet, MET Report no. 3/2021, https://www.met.no/publikasjoner/met-report/_/attachment/download/424fe337-b444-4801-913d-ba7207a29024:801be70d4b238debdf6abbfb897273e89304b6ae/MET-report_03-2021.pdf \n",
      "\n",
      "📍 经纬度信息:\n",
      "  纬度范围: 62.2 ~ 62.5\n",
      "  经度范围: 5.6 ~ 6.2\n",
      "\n",
      "⏳ 时间信息:\n",
      "  共有 744 个时间步\n",
      "  采样时间步长: 3600\n",
      "\n",
      "🌊 变量信息:\n",
      "  hs: hs (单位: m, 形状: (744, 128, 128))\n",
      "  tm02: tm02 (单位: s, 形状: (744, 128, 128))\n",
      "  theta0: theta0 (单位: degrees, 形状: (744, 128, 128))\n",
      "  time: time (单位: seconds since 1970-01-01, 形状: (744,))\n",
      "  longitude: longitude (单位: degrees_east, 形状: (128,))\n",
      "  latitude: latitude (单位: degrees_north, 形状: (128,))\n"
     ]
    }
   ],
   "execution_count": 3
  },
  {
   "metadata": {
    "ExecuteTime": {
     "end_time": "2025-03-10T14:21:41.340486Z",
     "start_time": "2025-03-10T14:21:41.324646Z"
    }
   },
   "cell_type": "code",
   "source": [
    "import netCDF4 as nc\n",
    "\n",
    "def list_nc_variables(file_path):\n",
    "    # 打开 nc 文件\n",
    "    dataset = nc.Dataset(file_path, 'r')\n",
    "\n",
    "    # 获取所有变量\n",
    "    variables = list(dataset.variables.keys())\n",
    "\n",
    "    # 输出变量信息\n",
    "    print(\"📌 文件中的所有变量：\")\n",
    "    for var_name in variables:\n",
    "        var = dataset.variables[var_name]\n",
    "        print(f\"  - {var_name} (形状: {var.shape}, 维度: {var.dimensions})\")\n",
    "\n",
    "    dataset.close()\n",
    "\n",
    "# 示例使用\n",
    "list_nc_variables(file_path)\n"
   ],
   "id": "2b7587a747f54dcf",
   "outputs": [
    {
     "name": "stdout",
     "output_type": "stream",
     "text": [
      "📌 文件中的所有变量：\n",
      "  - hs (形状: (744, 128, 128), 维度: ('time', 'latitude', 'longitude'))\n",
      "  - tm02 (形状: (744, 128, 128), 维度: ('time', 'latitude', 'longitude'))\n",
      "  - theta0 (形状: (744, 128, 128), 维度: ('time', 'latitude', 'longitude'))\n",
      "  - time (形状: (744,), 维度: ('time',))\n",
      "  - longitude (形状: (128,), 维度: ('longitude',))\n",
      "  - latitude (形状: (128,), 维度: ('latitude',))\n"
     ]
    }
   ],
   "execution_count": 4
  },
  {
   "metadata": {},
   "cell_type": "code",
   "outputs": [],
   "execution_count": null,
   "source": "",
   "id": "d49d6b0e23940235"
  }
 ],
 "metadata": {
  "kernelspec": {
   "display_name": "Python 3",
   "language": "python",
   "name": "python3"
  },
  "language_info": {
   "codemirror_mode": {
    "name": "ipython",
    "version": 2
   },
   "file_extension": ".py",
   "mimetype": "text/x-python",
   "name": "python",
   "nbconvert_exporter": "python",
   "pygments_lexer": "ipython2",
   "version": "2.7.6"
  }
 },
 "nbformat": 4,
 "nbformat_minor": 5
}
