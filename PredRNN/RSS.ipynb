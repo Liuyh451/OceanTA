{
 "cells": [
  {
   "cell_type": "code",
   "id": "initial_id",
   "metadata": {
    "collapsed": true,
    "ExecuteTime": {
     "end_time": "2025-03-06T15:46:02.346757Z",
     "start_time": "2025-03-06T15:45:58.227497Z"
    }
   },
   "source": [
    "import torch\n",
    "import torch.nn as nn\n",
    "import random\n",
    "\n",
    "# 一个简单的解码器示例\n",
    "class DecoderRNN(nn.Module):\n",
    "    def __init__(self, input_size, hidden_size, output_size):\n",
    "        super(DecoderRNN, self).__init__()\n",
    "        self.embedding = nn.Embedding(input_size, hidden_size)\n",
    "        self.gru = nn.GRU(hidden_size, hidden_size)\n",
    "        self.out = nn.Linear(hidden_size, output_size)\n",
    "    \n",
    "    def forward(self, input, hidden):\n",
    "        # input: (batch_size)\n",
    "        embedded = self.embedding(input).unsqueeze(0)  # (1, batch_size, hidden_size)\n",
    "        output, hidden = self.gru(embedded, hidden)      # output: (1, batch_size, hidden_size)\n",
    "        output = self.out(output.squeeze(0))             # (batch_size, output_size)\n",
    "        return output, hidden\n",
    "\n",
    "def reverse_scheduled_sampling(decoder, target_seq, initial_hidden, rss_rate):\n",
    "    \"\"\"\n",
    "    反向调度采样示例\n",
    "    参数：\n",
    "      decoder: 解码器模型\n",
    "      target_seq: 目标序列，形状为 (seq_len, batch_size)\n",
    "      initial_hidden: 初始隐藏状态\n",
    "      rss_rate: 反向调度采样率，取值范围 [0,1]，0表示完全使用真实标签，1表示完全使用模型预测\n",
    "    返回：\n",
    "      outputs: 模型生成的输出序列，形状为 (seq_len-1, batch_size, output_size)\n",
    "    \"\"\"\n",
    "    seq_len, batch_size = target_seq.size()\n",
    "    # 初始输入使用序列开始标记（通常为 <SOS>），这里假设 target_seq[0] 为 <SOS>\n",
    "    input_token = target_seq[0]  \n",
    "    hidden = initial_hidden\n",
    "    outputs = []\n",
    "    \n",
    "    # 从 t=1 开始生成序列\n",
    "    for t in range(1, seq_len):\n",
    "        output, hidden = decoder(input_token, hidden)\n",
    "        outputs.append(output)\n",
    "        # 根据反向调度采样率决定下一个输入\n",
    "        if random.random() < rss_rate:\n",
    "            # 使用模型的预测结果作为下一个输入\n",
    "            input_token = output.argmax(dim=1)\n",
    "        else:\n",
    "            # 使用真实标签\n",
    "            input_token = target_seq[t]\n",
    "    \n",
    "    outputs = torch.stack(outputs, dim=0)  # (seq_len-1, batch_size, output_size)\n",
    "    return outputs"
   ],
   "outputs": [],
   "execution_count": 1
  },
  {
   "metadata": {
    "ExecuteTime": {
     "end_time": "2025-03-06T15:58:27.073160Z",
     "start_time": "2025-03-06T15:58:26.971514Z"
    }
   },
   "cell_type": "code",
   "source": [
    "# 示例参数（请根据实际任务设置）\n",
    "vocab_size = 5000      # 词汇表大小\n",
    "hidden_size = 256\n",
    "output_size = vocab_size  # 假设输出词汇分布\n",
    "\n",
    "# 初始化解码器\n",
    "decoder = DecoderRNN(input_size=vocab_size, hidden_size=hidden_size, output_size=output_size)\n",
    "\n",
    "# 假设一个目标序列：seq_len x batch_size\n",
    "seq_len = 10\n",
    "batch_size = 32\n",
    "# 随机生成目标序列，注意 target_seq[0] 通常为 <SOS> 标记\n",
    "target_seq = torch.randint(0, vocab_size, (seq_len, batch_size))\n",
    "print(\"目标序列的形状：\", target_seq.shape)\n",
    "\n",
    "# 初始隐藏状态\n",
    "initial_hidden = torch.zeros(1, batch_size, hidden_size)\n",
    "\n",
    "# 设置反向调度采样率，例如 0.3 表示 30% 的概率使用模型预测作为输入\n",
    "rss_rate = 0.3\n",
    "\n",
    "# 进行反向调度采样生成序列\n",
    "outputs = reverse_scheduled_sampling(decoder, target_seq, initial_hidden, rss_rate)\n",
    "print(\"生成输出的形状：\", outputs.shape)"
   ],
   "id": "f0740f6099ae5913",
   "outputs": [
    {
     "name": "stdout",
     "output_type": "stream",
     "text": [
      "目标序列的形状： torch.Size([10, 32])\n",
      "生成输出的形状： torch.Size([9, 32, 5000])\n"
     ]
    }
   ],
   "execution_count": 3
  },
  {
   "metadata": {},
   "cell_type": "code",
   "outputs": [],
   "execution_count": null,
   "source": "",
   "id": "50c3b5ebd69239ca"
  }
 ],
 "metadata": {
  "kernelspec": {
   "display_name": "Python 3",
   "language": "python",
   "name": "python3"
  },
  "language_info": {
   "codemirror_mode": {
    "name": "ipython",
    "version": 2
   },
   "file_extension": ".py",
   "mimetype": "text/x-python",
   "name": "python",
   "nbconvert_exporter": "python",
   "pygments_lexer": "ipython2",
   "version": "2.7.6"
  }
 },
 "nbformat": 4,
 "nbformat_minor": 5
}
