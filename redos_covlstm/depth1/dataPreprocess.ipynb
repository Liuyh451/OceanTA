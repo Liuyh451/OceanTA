{
 "cells": [
  {
   "cell_type": "code",
   "id": "initial_id",
   "metadata": {
    "collapsed": true,
    "ExecuteTime": {
     "end_time": "2024-08-14T01:40:18.948334Z",
     "start_time": "2024-08-14T01:40:18.935601Z"
    }
   },
   "source": [
    "import numpy as np\n",
    "import xarray as xr\n",
    "def increment_number(number_str):\n",
    "    # 自增数字部分\n",
    "    new_number = str(int(number_str) + 1).zfill(2)  # 保持两位数格式\n",
    "    return new_number\n",
    "num1='1'\n",
    "# 示例用法\n",
    "number_str = \"00\"\n",
    "# # 打印原始数据的经纬度范围\n",
    "# print(\"Longitude range:\", data['lon'].min().values, \"to\", data['lon'].max().values)\n",
    "# print(\"Latitude range:\", data['lat'].min().values, \"to\", data['lat'].max().values)\n",
    "# print(data['u'].coords)\n",
    "# print(data['v'].coords)\n",
    "# print(data['s'].coords)"
   ],
   "outputs": [],
   "execution_count": 8
  },
  {
   "metadata": {
    "ExecuteTime": {
     "end_time": "2024-08-14T01:40:21.149030Z",
     "start_time": "2024-08-14T01:40:21.131399Z"
    }
   },
   "cell_type": "code",
   "source": [
    "def clip_nc_region(nc_file,num):\n",
    "    # 打开 NetCDF 文件\n",
    "    data = xr.open_dataset(nc_file)\n",
    "    # 确定经纬度范围\n",
    "    lon_range = np.linspace(112.0, 117.1, data['u'].shape[2])\n",
    "    lat_range = np.linspace(12.9, 15.7, data['u'].shape[1])\n",
    "    u = xr.DataArray(data['u'].values, dims=['lv', 'latu', 'lonu'], coords={'lonu': lon_range, 'latu': lat_range})\n",
    "    \n",
    "    # 创建 DataArray 对象并赋予坐标\n",
    "    lon_range = np.linspace(112.0, 117.1, data['v'].shape[2])\n",
    "    lat_range = np.linspace(12.9, 15.7, data['v'].shape[1])\n",
    "    v = xr.DataArray(data['v'].values, dims=['lv', 'latv', 'lonv'], coords={'lonv': lon_range, 'latv': lat_range})\n",
    "    \n",
    "    # 确定目标经纬度范围\n",
    "    target_lon = data['lon'].values\n",
    "    target_lat = data['lat'].values\n",
    "    \n",
    "    # 进行插值\n",
    "    regrid_u = u.interp(lonu=target_lon, latu=target_lat, method='linear')\n",
    "    regrid_v = v.interp(lonv=target_lon, latv=target_lat, method='linear')\n",
    "    \n",
    "    # 截取 s, t, zeta 使用的 lon 和 lat\n",
    "    # 指定要截取的经纬度范围\n",
    "    lon_min, lon_max = 112, 117.1  # 经度范围\n",
    "    lat_min, lat_max = 12.9, 15.7  # 纬度范围\n",
    "    subset_t = data['t'].sel(lon=slice(lon_min, lon_max), lat=slice(lat_min, lat_max))\n",
    "    subset_s = data['s'].sel(lon=slice(lon_min, lon_max), lat=slice(lat_min, lat_max))\n",
    "    subset_zeta = data['zeta'].sel(lon=slice(lon_min, lon_max), lat=slice(lat_min, lat_max))\n",
    "    subset_u = regrid_u.sel(lonu=slice(lon_min, lon_max), latu=slice(lat_min, lat_max))\n",
    "    subset_v = regrid_v.sel(lonv=slice(lon_min, lon_max), latv=slice(lat_min, lat_max))\n",
    "    # 创建新的数据集\n",
    "    subset = xr.Dataset({\n",
    "        't': subset_t,\n",
    "        's': subset_s,\n",
    "        'zeta': subset_zeta,\n",
    "        'u': subset_u,\n",
    "        'v': subset_v\n",
    "    })\n",
    "    #保存为新的 NetCDF 文件\n",
    "    subset.to_netcdf('E:/DataSet/redos/REDOS_1.0_1994/'+num1+'/subset_file_'+num+'.nc')"
   ],
   "id": "a2abe2ec17820b82",
   "outputs": [],
   "execution_count": 9
  },
  {
   "metadata": {
    "ExecuteTime": {
     "end_time": "2024-08-14T01:40:43.603761Z",
     "start_time": "2024-08-14T01:40:24.434390Z"
    }
   },
   "cell_type": "code",
   "source": [
    "for _ in range(31):  # 模拟从 \"01\" 自增到 \"20\"\n",
    "    number_str = increment_number(number_str)\n",
    "    num2=number_str\n",
    "    nc_file = 'E:/DataSet/redos/REDOS_1.0_1994/'+num1+'/REDOS_1.0_199401'+num2+'.nc/REDOS_1.0_199401'+num2+'.nc'\n",
    "    # 打开 NetCDF 文件\n",
    "    data = xr.open_dataset(nc_file)\n",
    "    clip_nc_region(nc_file,number_str)\n",
    "    # print(data['u'].coords)\n",
    "    # print(data['v'].coords)\n",
    "    # print(\"u dimensions:\", data['u'].dims)\n",
    "    # print(\"v dimensions:\", data['v'].dims)\n",
    "    # print(\"s dimensions:\", data['s'].dims)"
   ],
   "id": "e4c88e4bce4ef806",
   "outputs": [],
   "execution_count": 10
  },
  {
   "metadata": {
    "ExecuteTime": {
     "end_time": "2024-08-13T13:14:56.764224Z",
     "start_time": "2024-08-13T13:14:56.751224Z"
    }
   },
   "cell_type": "code",
   "source": "\n",
   "id": "eb404b8f23380d19",
   "outputs": [
    {
     "name": "stdout",
     "output_type": "stream",
     "text": [
      "Coordinates:\n",
      "    *empty*\n",
      "Coordinates:\n",
      "    *empty*\n",
      "u dimensions: ('lv', 'latu', 'lonu')\n",
      "v dimensions: ('lv', 'latv', 'lonv')\n",
      "s dimensions: ('lv', 'lat', 'lon')\n"
     ]
    }
   ],
   "execution_count": 57
  },
  {
   "metadata": {
    "ExecuteTime": {
     "end_time": "2024-08-13T13:21:10.058056Z",
     "start_time": "2024-08-13T13:21:09.470593Z"
    }
   },
   "cell_type": "code",
   "source": "",
   "id": "21412abeea1c2b6a",
   "outputs": [
    {
     "data": {
      "text/plain": [
       "((24, 28, 52), (24, 28, 52), (28, 52), (24, 28, 52), (24, 28, 52))"
      ]
     },
     "execution_count": 65,
     "metadata": {},
     "output_type": "execute_result"
    }
   ],
   "execution_count": 65
  },
  {
   "metadata": {
    "ExecuteTime": {
     "end_time": "2024-08-13T13:25:49.610525Z",
     "start_time": "2024-08-13T13:25:49.574884Z"
    }
   },
   "cell_type": "code",
   "source": [
    "import xarray as xr\n",
    "\n",
    "# 打开保存的 NetCDF 文件\n",
    "subset_data = xr.open_dataset('subset_file_3.nc')\n",
    "t=subset_data['t']\n",
    "s=subset_data['s']\n",
    "zeta=subset_data['zeta']\n",
    "u=subset_data['u']\n",
    "v=subset_data['v']\n",
    "# 查看 `t` 数据的前几个元素"
   ],
   "id": "1559416d9a0156a",
   "outputs": [
    {
     "name": "stdout",
     "output_type": "stream",
     "text": [
      "[[        nan         nan         nan ... -0.0466703  -0.05348295\n",
      "  -0.04565118]\n",
      " [        nan         nan         nan ... -0.10002735 -0.10397036\n",
      "  -0.1124068 ]\n",
      " [        nan         nan         nan ... -0.07137974 -0.08938967\n",
      "  -0.05337893]\n",
      " ...\n",
      " [        nan         nan         nan ... -0.00163597 -0.02371669\n",
      "  -0.01573563]\n",
      " [        nan         nan         nan ... -0.0214408  -0.03850015\n",
      "  -0.01503139]\n",
      " [        nan         nan         nan ... -0.01528002 -0.0093494\n",
      "  -0.02374521]]\n"
     ]
    }
   ],
   "execution_count": 76
  },
  {
   "metadata": {
    "ExecuteTime": {
     "end_time": "2024-08-13T13:22:10.926972Z",
     "start_time": "2024-08-13T13:22:10.909976Z"
    }
   },
   "cell_type": "code",
   "source": [
    "def tempfunc(nc_file,type,depth):\n",
    "    daily_data = []\n",
    "    #zeta为海表没有深度，所以永远为0\n",
    "    if type=='zeta':\n",
    "        temp_lv0 = nc_file.variables[type][ :, :]\n",
    "    else:\n",
    "        temp_lv0 = nc_file.variables[type][depth, :, :]\n",
    "    #模拟20天的数据\n",
    "    for i in range(30):\n",
    "        daily_data.append(temp_lv0)\n",
    "    day_lon_lat = np.array(daily_data)\n",
    "    return day_lon_lat"
   ],
   "id": "24abeb23a9dea5b4",
   "outputs": [],
   "execution_count": 68
  },
  {
   "metadata": {
    "ExecuteTime": {
     "end_time": "2024-08-13T13:22:12.811448Z",
     "start_time": "2024-08-13T13:22:12.788455Z"
    }
   },
   "cell_type": "code",
   "source": [
    "def create_dataset(data, time_step):\n",
    "    dataX = []\n",
    "    for i in range(data.shape[0] - time_step + 1):\n",
    "        dataX.append(data[i:i + time_step])\n",
    "    return np.array(dataX)\n",
    "def read_raw_data(vtype, depth, time_step,nc_file):\n",
    "    #训练用的数据是第0层，也就是海表，原来那个是按照深度进行划分的，这个nc文件是按天数进行划分的，这里只有一天，所以shape[0]=1\n",
    "    train_argo = tempfunc(nc_file,vtype,0)\n",
    "    label_argo = tempfunc(nc_file,vtype,depth)\n",
    "    width = train_argo.shape[2] #对应经度\n",
    "    lenth = train_argo.shape[1] #对应纬度\n",
    "    X = create_dataset(train_argo, time_step)\n",
    "    X = X.reshape(X.shape[0],time_step,lenth,width,1)\n",
    "    Y = label_argo[time_step-1 : label_argo.shape[0]] \n",
    "    Y =Y.reshape(Y.shape[0],lenth,width,1)\n",
    "    #X 转置维度，变为 (样本数, 时间步长, 通道数, 纬度, 经度)。\n",
    "    #Y 转置维度，变为 (样本数, 时间步长， 经度, 纬度)。\n",
    "    X = X.transpose(0,1,4,2,3)\n",
    "    Y = Y.transpose(0,3,1,2)\n",
    "    return X, Y"
   ],
   "id": "53226cd5b68809a9",
   "outputs": [],
   "execution_count": 69
  },
  {
   "metadata": {
    "ExecuteTime": {
     "end_time": "2024-08-13T13:23:27.043105Z",
     "start_time": "2024-08-13T13:23:26.998104Z"
    }
   },
   "cell_type": "code",
   "source": [
    "#这几个数据格式一样，但是内容不一样，读的分别是不同的列\n",
    "import netCDF4 as nc\n",
    "file_path = './subset_file_3.nc'\n",
    "file_obj = nc.Dataset(file_path)\n",
    "train_sssa,_=read_raw_data('s',0,3,file_obj)\n",
    "train_ssha,_ = read_raw_data('zeta',0,3,file_obj) #海面高度异常（Sea Level Anomaly）,他写的是sla，但是这里是zeta\n",
    "train_sswu,_ = read_raw_data('u',0,3,file_obj)#U vwnd分量的风速（即沿经度方向的风速）,这里是u\n",
    "train_sswv,_ = read_raw_data('v',0,3,file_obj)#V vwnd分量的风速（即沿纬度方向的风速），这里是v\n",
    "train_argo, label_argo = read_raw_data('t', 1, 3,file_obj)#temp 代表温度数据,预测深度为1时的海温"
   ],
   "id": "c36fa63b5fb9d102",
   "outputs": [],
   "execution_count": 70
  },
  {
   "metadata": {
    "ExecuteTime": {
     "end_time": "2024-08-13T13:23:28.758845Z",
     "start_time": "2024-08-13T13:23:28.743853Z"
    }
   },
   "cell_type": "code",
   "source": "train_sssa.shape,train_ssha.shape,train_sswu.shape,train_sswv.shape,label_argo.shape,train_argo.shape",
   "id": "e99324e88ec5d96c",
   "outputs": [
    {
     "data": {
      "text/plain": [
       "((28, 3, 1, 28, 52),\n",
       " (28, 3, 1, 28, 52),\n",
       " (28, 3, 1, 28, 52),\n",
       " (28, 3, 1, 28, 52),\n",
       " (28, 1, 28, 52),\n",
       " (28, 3, 1, 28, 52))"
      ]
     },
     "execution_count": 71,
     "metadata": {},
     "output_type": "execute_result"
    }
   ],
   "execution_count": 71
  },
  {
   "metadata": {},
   "cell_type": "code",
   "source": "",
   "id": "a0d8f57c8a218a86",
   "outputs": [],
   "execution_count": null
  }
 ],
 "metadata": {
  "kernelspec": {
   "display_name": "Python 3",
   "language": "python",
   "name": "python3"
  },
  "language_info": {
   "codemirror_mode": {
    "name": "ipython",
    "version": 2
   },
   "file_extension": ".py",
   "mimetype": "text/x-python",
   "name": "python",
   "nbconvert_exporter": "python",
   "pygments_lexer": "ipython2",
   "version": "2.7.6"
  }
 },
 "nbformat": 4,
 "nbformat_minor": 5
}
