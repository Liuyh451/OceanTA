{
 "cells": [
  {
   "metadata": {
    "ExecuteTime": {
     "end_time": "2024-11-24T13:53:58.489733Z",
     "start_time": "2024-11-24T13:53:58.479890Z"
    }
   },
   "cell_type": "code",
   "source": [
    "import torch\n",
    "\n",
    "def compute_metrics(predictions, ground_truth, metric_type=\"hs\"):\n",
    "    \"\"\"\n",
    "    计算RMSE和CRPS的评估指标。\n",
    "\n",
    "    参数:\n",
    "    - predictions: torch.Tensor, 模型的预测值，形状为 [10200, 4, 128, 128]\n",
    "    - ground_truth: torch.Tensor, 真实值，形状为 [10200, 4, 128, 128]\n",
    "    - metric_type: str, 指标类型，'hs' 或 'tm' 使用直接方法，'dirm' 使用角度处理\n",
    "\n",
    "    返回:\n",
    "    - rmse: float, 均方根误差\n",
    "    - crps: float, 连续分级概率得分\n",
    "    \"\"\"\n",
    "    # 确保预测值和真实值形状一致\n",
    "    assert predictions.shape == ground_truth.shape, \"预测值和真实值的形状必须一致\"\n",
    "    \n",
    "    # 获取所有网格单元的总数\n",
    "    n = predictions.numel()  # 总元素数量\n",
    "\n",
    "    # ---- 计算 RMSE ----\n",
    "    if metric_type == \"dirm\":  # 特殊处理方向角\n",
    "        error = torch.min(\n",
    "            torch.abs(predictions - ground_truth), \n",
    "            360 - torch.abs(predictions - ground_truth)\n",
    "        )\n",
    "    else:\n",
    "        error = predictions - ground_truth\n",
    "    rmse = torch.sqrt(torch.mean(error**2)).item()\n",
    "\n",
    "    # ---- 计算 CRPS ----\n",
    "    if metric_type == \"dirm\":\n",
    "        abs_diff = torch.min(\n",
    "            torch.abs(predictions.unsqueeze(1) - ground_truth.unsqueeze(1)), \n",
    "            360 - torch.abs(predictions.unsqueeze(1) - ground_truth.unsqueeze(1))\n",
    "        )\n",
    "    else:\n",
    "        abs_diff = torch.abs(predictions.unsqueeze(1) - ground_truth.unsqueeze(1))\n",
    "    \n",
    "    # 模拟生成N个样本\n",
    "    N = 10\n",
    "    ensemble_samples = torch.rand_like(predictions.unsqueeze(1)).repeat(1, N, 1, 1, 1)  # 随机生成\n",
    "    diff_samples = torch.abs(ensemble_samples - predictions.unsqueeze(1))\n",
    "    \n",
    "    # 计算CRPS的两部分\n",
    "    part1 = torch.mean(abs_diff, dim=1)\n",
    "    part2 = torch.mean(diff_samples, dim=1)\n",
    "    crps = torch.mean(part1 - 0.5 * part2).item()\n",
    "\n",
    "    return rmse, crps\n"
   ],
   "id": "addbc024915d2261",
   "outputs": [],
   "execution_count": 3
  },
  {
   "cell_type": "code",
   "id": "initial_id",
   "metadata": {
    "collapsed": true,
    "ExecuteTime": {
     "end_time": "2024-11-24T13:54:35.503223Z",
     "start_time": "2024-11-24T13:54:01.124982Z"
    }
   },
   "source": [
    "import wave_filed_data_prepare\n",
    "import Utils\n",
    "import numpy as np\n",
    "# predictions = np.random.rand(102, 4, 128, 128)\n",
    "# ground_truths = np.random.rand(102, 4, 128, 128)\n",
    "ground_truths = wave_filed_data_prepare.combine_monthly_data(\"/home/hy4080/met_waves/Swan_cropped/swanSula\", 2019, 2021).numpy()\n",
    "predictions=np.load(\"data/generated_wave_fields.npy\")\n",
    "# 计算RMSE和CRPS\n",
    "print(ground_truths.shape,predictions.shape)\n",
    "ground_truths=torch.tensor(ground_truths)\n",
    "predictions=torch.tensor(predictions)\n",
    "rmse_hs, crps_hs = compute_metrics(predictions, ground_truths, metric_type=\"hs\")\n",
    "rmse_dirm, crps_dirm = compute_metrics(predictions, ground_truths, metric_type=\"dirm\")\n",
    "\n",
    "print(f\"RMSE (hs): {rmse_hs:.4f}, CRPS (hs): {crps_hs:.4f}\")\n",
    "print(f\"RMSE (dirm): {rmse_dirm:.4f}, CRPS (dirm): {crps_dirm:.4f}\")\n"
   ],
   "outputs": [
    {
     "name": "stdout",
     "output_type": "stream",
     "text": [
      "Processing file for 201901...\n",
      "文件 /home/hy4080/met_waves/Swan_cropped/swanSula201901_cropped.nc 处理后形状: (744, 128, 128, 4)\n",
      "Processing file for 201902...\n",
      "文件 /home/hy4080/met_waves/Swan_cropped/swanSula201902_cropped.nc 处理后形状: (672, 128, 128, 4)\n",
      "Processing file for 201903...\n",
      "文件 /home/hy4080/met_waves/Swan_cropped/swanSula201903_cropped.nc 处理后形状: (744, 128, 128, 4)\n",
      "Processing file for 201904...\n",
      "文件 /home/hy4080/met_waves/Swan_cropped/swanSula201904_cropped.nc 处理后形状: (720, 128, 128, 4)\n",
      "Processing file for 201905...\n",
      "文件 /home/hy4080/met_waves/Swan_cropped/swanSula201905_cropped.nc 处理后形状: (744, 128, 128, 4)\n",
      "Processing file for 201906...\n",
      "文件 /home/hy4080/met_waves/Swan_cropped/swanSula201906_cropped.nc 处理后形状: (720, 128, 128, 4)\n",
      "Processing file for 201907...\n",
      "文件 /home/hy4080/met_waves/Swan_cropped/swanSula201907_cropped.nc 处理后形状: (744, 128, 128, 4)\n",
      "Processing file for 201908...\n",
      "文件 /home/hy4080/met_waves/Swan_cropped/swanSula201908_cropped.nc 处理后形状: (744, 128, 128, 4)\n",
      "Processing file for 201909...\n",
      "文件 /home/hy4080/met_waves/Swan_cropped/swanSula201909_cropped.nc 处理后形状: (720, 128, 128, 4)\n",
      "Processing file for 201910...\n",
      "文件 /home/hy4080/met_waves/Swan_cropped/swanSula201910_cropped.nc 处理后形状: (744, 128, 128, 4)\n",
      "Processing file for 201911...\n",
      "文件 /home/hy4080/met_waves/Swan_cropped/swanSula201911_cropped.nc 处理后形状: (720, 128, 128, 4)\n",
      "Processing file for 201912...\n",
      "文件 /home/hy4080/met_waves/Swan_cropped/swanSula201912_cropped.nc 处理后形状: (744, 128, 128, 4)\n",
      "Processing file for 202001...\n",
      "文件 /home/hy4080/met_waves/Swan_cropped/swanSula202001_cropped.nc 处理后形状: (744, 128, 128, 4)\n",
      "Processing file for 202002...\n",
      "文件 /home/hy4080/met_waves/Swan_cropped/swanSula202002_cropped.nc 处理后形状: (696, 128, 128, 4)\n",
      "(10200, 4, 128, 128) (10200, 4, 128, 128)\n",
      "RMSE (hs): 0.0942, CRPS (hs): -0.1928\n",
      "RMSE (dirm): 0.0942, CRPS (dirm): -0.1928\n"
     ]
    }
   ],
   "execution_count": 4
  },
  {
   "metadata": {
    "ExecuteTime": {
     "end_time": "2024-11-24T14:06:07.883433Z",
     "start_time": "2024-11-24T14:06:07.869886Z"
    }
   },
   "cell_type": "code",
   "source": [
    "import numpy as np\n",
    "import matplotlib.pyplot as plt\n",
    "# 加载数据\n",
    "predictions_np = predictions[0:20,:,:,:]\n",
    "ground_truth_np = ground_truths[0:20,:,:,:]\n",
    "\n",
    "print(predictions_np[0,0,10:13,0:3],ground_truth_np[0,0,10:13,0:3])\n"
   ],
   "id": "f4fcdf7283987000",
   "outputs": [
    {
     "name": "stdout",
     "output_type": "stream",
     "text": [
      "tensor([[ 0.6268,  0.2383,  0.7844],\n",
      "        [ 0.4868, -0.2833, -0.4021],\n",
      "        [ 0.1106,  0.0072, -0.1512]]) tensor([[1.0000e+00, 9.2519e-19, 1.0000e+00],\n",
      "        [9.2519e-19, 9.2519e-19, 9.2519e-19],\n",
      "        [9.2519e-19, 9.2519e-19, 9.2519e-19]])\n"
     ]
    }
   ],
   "execution_count": 8
  },
  {
   "metadata": {},
   "cell_type": "code",
   "outputs": [],
   "execution_count": null,
   "source": "",
   "id": "495d0e67a6c26da6"
  }
 ],
 "metadata": {
  "kernelspec": {
   "display_name": "Python 3",
   "language": "python",
   "name": "python3"
  },
  "language_info": {
   "codemirror_mode": {
    "name": "ipython",
    "version": 2
   },
   "file_extension": ".py",
   "mimetype": "text/x-python",
   "name": "python",
   "nbconvert_exporter": "python",
   "pygments_lexer": "ipython2",
   "version": "2.7.6"
  }
 },
 "nbformat": 4,
 "nbformat_minor": 5
}
