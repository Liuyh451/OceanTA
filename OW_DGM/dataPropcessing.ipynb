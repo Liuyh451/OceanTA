{
 "cells": [
  {
   "cell_type": "code",
   "id": "initial_id",
   "metadata": {
    "collapsed": true,
    "ExecuteTime": {
     "end_time": "2024-11-13T03:16:28.453325Z",
     "start_time": "2024-11-13T03:16:28.418056Z"
    }
   },
   "source": [
    "import netCDF4 as nc\n",
    "\n",
    "# 打开下载的nc文件\n",
    "file_path = r'E:\\Dataset\\met_waves\\202001_E39_C_Sulafjorden_wave.nc'  # 替换为你的nc文件路径\n",
    "dataset = nc.Dataset(file_path, 'r')\n",
    "\n",
    "# 输出文件的基本信息\n",
    "print(f\"文件名: {file_path}\")\n",
    "print(f\"NetCDF版本: {dataset.file_format}\")\n",
    "\n",
    "# 输出文件中的维度（Dimensions）\n",
    "dimensions = dataset.dimensions.keys()\n",
    "print(\"\\nDimensions:\")\n",
    "for dim in dimensions:\n",
    "    print(f\"  {dim}: {dataset.dimensions[dim].size}\")\n",
    "\n",
    "# 输出文件中的变量（Variables）\n",
    "variables = dataset.variables.keys()\n",
    "print(\"\\nVariables:\")\n",
    "for var in variables:\n",
    "    print(f\"  {var}: {dataset.variables[var].dimensions}\")\n",
    "    print(f\"    类型: {dataset.variables[var].datatype}\")\n",
    "    # 输出变量的属性（Attributes）\n",
    "    attributes = dataset.variables[var].ncattrs()\n",
    "    print(f\"    属性:\")\n",
    "    for attr in attributes:\n",
    "        print(f\"      {attr}: {getattr(dataset.variables[var], attr)}\")\n",
    "\n",
    "# 关闭文件\n",
    "dataset.close()"
   ],
   "outputs": [
    {
     "name": "stdout",
     "output_type": "stream",
     "text": [
      "文件名: E:\\Dataset\\met_waves\\202001_E39_C_Sulafjorden_wave.nc\n",
      "NetCDF版本: NETCDF4\n",
      "\n",
      "Dimensions:\n",
      "  time: 4464\n",
      "\n",
      "Variables:\n",
      "  time: ('time',)\n",
      "    类型: float64\n",
      "    属性:\n",
      "      standard_name: time\n",
      "      long_name: Time of measurement\n",
      "      units: seconds since 1970-01-01 00:00:00 UTC\n",
      "      axis: T\n",
      "      comment: End of the 10 minute sampling period\n",
      "      calendar: standard\n",
      "  latitude: ('time',)\n",
      "    类型: float64\n",
      "    属性:\n",
      "      standard_name: latitude\n",
      "      units: degree_north\n",
      "      valid_min: -90.0\n",
      "      valid_max: 90.0\n",
      "  longitude: ('time',)\n",
      "    类型: float64\n",
      "    属性:\n",
      "      standard_name: longitude\n",
      "      units: degree_east\n",
      "      valid_min: -180.0\n",
      "      valid_max: 180.0\n",
      "  Hm0: ('time',)\n",
      "    类型: float32\n",
      "    属性:\n",
      "      _FillValue: 9999.0\n",
      "      standard_name: sea_surface_wave_significant_height\n",
      "      long_name: Significant wave height estimate from spectrum\n",
      "      units: m\n",
      "      valid_range: [ 0. 25.]\n",
      "  hm0a: ('time',)\n",
      "    类型: float32\n",
      "    属性:\n",
      "      _FillValue: 9999.0\n",
      "      standard_name: sea_surface_wave_significant_height\n",
      "      long_name: Low frequency band Significant wave height estimated from spectrum\n",
      "      units: m\n",
      "      valid_range: [ 0. 25.]\n",
      "  hm0b: ('time',)\n",
      "    类型: float32\n",
      "    属性:\n",
      "      _FillValue: 9999.0\n",
      "      standard_name: sea_surface_wave_significant_height\n",
      "      long_name: High frequency band Significant wave height estimated from spectrum\n",
      "      units: m\n",
      "      valid_range: [ 0. 25.]\n",
      "  hmax: ('time',)\n",
      "    类型: float32\n",
      "    属性:\n",
      "      _FillValue: 9999.0\n",
      "      standard_name: sea_surface_wave_maximum_height\n",
      "      long_name: Maximum individual wave height from zero crossing analysis\n",
      "      units: m\n",
      "      valid_range: [ 0. 25.]\n",
      "  tm02: ('time',)\n",
      "    类型: float32\n",
      "    属性:\n",
      "      _FillValue: 9999.0\n",
      "      standard_name: sea_surface_wave_mean_period_from_variance_spectral_density_second_frequency_moment\n",
      "      long_name: Mean wave period estimated from 0th and 2nd moment of spectrum\n",
      "      units: s\n",
      "      valid_range: [ 0. 30.]\n",
      "  tm02a: ('time',)\n",
      "    类型: float32\n",
      "    属性:\n",
      "      _FillValue: 9999.0\n",
      "      standard_name: sea_surface_wave_mean_period_from_variance_spectral_density_second_frequency_moment\n",
      "      long_name: Low frequency mean wave period estimated from 0th and 2nd moment of spectrum\n",
      "      units: s\n",
      "      valid_range: [ 0. 30.]\n",
      "  tm02b: ('time',)\n",
      "    类型: float32\n",
      "    属性:\n",
      "      _FillValue: 9999.0\n",
      "      standard_name: sea_surface_wave_mean_period_from_variance_spectral_density_second_frequency_moment\n",
      "      long_name: High frequency mean wave period estimated from 0th and 2nd moment of spectrum\n",
      "      units: s\n",
      "      valid_range: [ 0. 30.]\n",
      "  tp: ('time',)\n",
      "    类型: float32\n",
      "    属性:\n",
      "      _FillValue: 9999.0\n",
      "      standard_name: sea_surface_wave_period_at_variance_spectral_density_maximum\n",
      "      long_name: Spectral peak wave period\n",
      "      units: s\n",
      "      valid_range: [ 0. 30.]\n",
      "  thmax: ('time',)\n",
      "    类型: float32\n",
      "    属性:\n",
      "      _FillValue: 9999.0\n",
      "      standard_name: sea_surface_wave_zero_upcrossing_period\n",
      "      long_name: Period of highest individual wave from zero crossing analysis\n",
      "      units: s\n",
      "      valid_range: [ 0. 30.]\n",
      "  tm01: ('time',)\n",
      "    类型: float32\n",
      "    属性:\n",
      "      _FillValue: 9999.0\n",
      "      standard_name: sea_surface_wave_mean_period_from_variance_spectral_density_first_frequency_moment\n",
      "      long_name: Mean wave period estimated from 0th and 1st moment of spectrum\n",
      "      units: s\n",
      "      valid_range: [ 0. 30.]\n",
      "  thhf: ('time',)\n",
      "    类型: float32\n",
      "    属性:\n",
      "      _FillValue: 9999.0\n",
      "      standard_name: sea_surface_wind_wave_from_direction\n",
      "      long_name: Wave direction of wind sea (from)\n",
      "      units: degree\n",
      "      valid_range: [  0. 360.]\n",
      "  mdir: ('time',)\n",
      "    类型: float32\n",
      "    属性:\n",
      "      _FillValue: 9999.0\n",
      "      standard_name: sea_surface_wave_from_direction\n",
      "      long_name: Mean wave direction (from) calculated from directional spectrum\n",
      "      units: degree\n",
      "      valid_range: [  0. 360.]\n",
      "  mdira: ('time',)\n",
      "    类型: float32\n",
      "    属性:\n",
      "      _FillValue: 9999.0\n",
      "      standard_name: sea_surface_wave_from_direction\n",
      "      long_name: Low frequency mean wave direction (from) calculated from directional spectrum\n",
      "      units: degree\n",
      "      valid_range: [  0. 360.]\n",
      "  mdirb: ('time',)\n",
      "    类型: float32\n",
      "    属性:\n",
      "      _FillValue: 9999.0\n",
      "      standard_name: sea_surface_wave_from_direction\n",
      "      long_name: High frequency mean wave direction (from) calculated from directional spectrum\n",
      "      units: degree\n",
      "      valid_range: [  0. 360.]\n",
      "  thtp: ('time',)\n",
      "    类型: float32\n",
      "    属性:\n",
      "      _FillValue: 9999.0\n",
      "      long_name: Spectral peak wave direction\n",
      "      units: degree\n",
      "      valid_range: [  0. 360.]\n",
      "  sprtp: ('time',)\n",
      "    类型: float32\n",
      "    属性:\n",
      "      _FillValue: 9999.0\n",
      "      long_name: Spectral peak wave spreading\n",
      "      units: degree\n",
      "      valid_range: [  0. 360.]\n"
     ]
    }
   ],
   "execution_count": 2
  },
  {
   "metadata": {
    "ExecuteTime": {
     "end_time": "2024-11-13T03:20:04.944565Z",
     "start_time": "2024-11-13T03:20:04.910277Z"
    }
   },
   "cell_type": "code",
   "source": [
    "import netCDF4 as nc\n",
    "import numpy as np\n",
    "from datetime import timedelta, datetime\n",
    "\n",
    "# 打开NetCDF文件\n",
    "file_path = r'E:\\Dataset\\met_waves\\202001_E39_C_Sulafjorden_wave.nc'  # 请确保路径正确\n",
    "dataset = nc.Dataset(file_path, 'r')\n",
    "\n",
    "# 查找时间变量\n",
    "time_var_name = None\n",
    "for var_name in dataset.variables.keys():\n",
    "    if 'time' in var_name.lower():  # 假设时间变量名中包含'time'\n",
    "        time_var_name = var_name\n",
    "        break\n",
    "\n",
    "if time_var_name is None:\n",
    "    raise ValueError(\"没有找到时间变量\")\n",
    "\n",
    "# 读取时间变量\n",
    "time_var = dataset.variables[time_var_name]\n",
    "time_units = time_var.getncattr('units')  # 获取时间单位\n",
    "time_data = time_var[:]  # 读取时间数据\n",
    "\n",
    "# 解析时间单位并转换为datetime对象（这取决于时间单位的格式）\n",
    "# 假设时间单位是'hours since 0001-01-01 00:00:00.0'或类似的格式\n",
    "# 这里我们使用numpy的datetime64功能来解析时间（注意：这可能需要根据实际的units字符串进行调整）\n",
    "# 但是，对于NetCDF时间变量，通常使用netCDF4的num2date函数更为方便\n",
    "from netCDF4 import num2date\n",
    "\n",
    "# 获取时间数据的起始和结束索引\n",
    "start_index = 0\n",
    "end_index = len(time_data) - 1\n",
    "\n",
    "# 将起始和结束时间从数值转换为datetime对象\n",
    "start_time = num2date(time_data[start_index], units=time_units, calendar=time_var.calendar)\n",
    "end_time = num2date(time_data[end_index], units=time_units, calendar=time_var.calendar)\n",
    "\n",
    "# 输出时间跨度\n",
    "time_span = end_time - start_time\n",
    "print(f\"时间跨度: {time_span}\")\n",
    "\n",
    "# 如果您想要以更易读的格式输出起始和结束时间\n",
    "print(f\"起始时间: {start_time}\")\n",
    "print(f\"结束时间: {end_time}\")\n",
    "\n",
    "# 关闭NetCDF文件\n",
    "dataset.close()"
   ],
   "id": "91840740020d52e6",
   "outputs": [
    {
     "name": "stdout",
     "output_type": "stream",
     "text": [
      "时间跨度: 30 days, 23:50:00\n",
      "起始时间: 2020-01-01 00:00:00\n",
      "结束时间: 2020-01-31 23:50:00\n"
     ]
    }
   ],
   "execution_count": 3
  },
  {
   "metadata": {
    "ExecuteTime": {
     "end_time": "2024-11-13T03:46:11.868106Z",
     "start_time": "2024-11-13T03:46:11.796510Z"
    }
   },
   "cell_type": "code",
   "source": [
    "# 查找纬度和经度变量\n",
    "lat_var_name = None\n",
    "lon_var_name = None\n",
    "for var_name in dataset.variables.keys():\n",
    "    if 'latitude' in var_name.lower():  # 假设纬度变量名中包含'lat'\n",
    "        lat_var_name = var_name\n",
    "    elif 'longitude' in var_name.lower() or 'long' in var_name.lower():  # 假设经度变量名中包含'lon'或'long'\n",
    "        lon_var_name = var_name\n",
    "\n",
    "if lat_var_name is None or lon_var_name is None:\n",
    "    raise ValueError(\"没有找到纬度或经度变量\")\n",
    "\n",
    "# 读取纬度和经度数据\n",
    "lat_var = dataset.variables[lat_var_name]\n",
    "lon_var = dataset.variables[lon_var_name]\n",
    "\n",
    "# 获取纬度和经度的范围\n",
    "lat_min = lat_var.min()\n",
    "lat_max = lat_var.max()\n",
    "lon_min = lon_var.min()\n",
    "lon_max = lon_var.max()\n",
    "\n",
    "# 输出经纬度范围\n",
    "print(f\"纬度范围: {lat_min}° 到 {lat_max}°\")\n",
    "print(f\"经度范围: {lon_min}° 到 {lon_max}°\")\n",
    "\n",
    "# 关闭NetCDF文件\n",
    "dataset.close()"
   ],
   "id": "a39ed61e5e0f3625",
   "outputs": [
    {
     "ename": "AttributeError",
     "evalue": "NetCDF: Not a valid ID",
     "output_type": "error",
     "traceback": [
      "\u001B[1;31m---------------------------------------------------------------------------\u001B[0m",
      "\u001B[1;31mAttributeError\u001B[0m                            Traceback (most recent call last)",
      "Cell \u001B[1;32mIn[5], line 18\u001B[0m\n\u001B[0;32m     15\u001B[0m lon_var \u001B[38;5;241m=\u001B[39m dataset\u001B[38;5;241m.\u001B[39mvariables[lon_var_name]\n\u001B[0;32m     17\u001B[0m \u001B[38;5;66;03m# 获取纬度和经度的范围\u001B[39;00m\n\u001B[1;32m---> 18\u001B[0m lat_min \u001B[38;5;241m=\u001B[39m \u001B[43mlat_var\u001B[49m\u001B[38;5;241;43m.\u001B[39;49m\u001B[43mmin\u001B[49m()\n\u001B[0;32m     19\u001B[0m lat_max \u001B[38;5;241m=\u001B[39m lat_var\u001B[38;5;241m.\u001B[39mmax()\n\u001B[0;32m     20\u001B[0m lon_min \u001B[38;5;241m=\u001B[39m lon_var\u001B[38;5;241m.\u001B[39mmin()\n",
      "File \u001B[1;32msrc\\netCDF4\\_netCDF4.pyx:4924\u001B[0m, in \u001B[0;36mnetCDF4._netCDF4.Variable.__getattr__\u001B[1;34m()\u001B[0m\n",
      "File \u001B[1;32msrc\\netCDF4\\_netCDF4.pyx:4642\u001B[0m, in \u001B[0;36mnetCDF4._netCDF4.Variable.getncattr\u001B[1;34m()\u001B[0m\n",
      "File \u001B[1;32msrc\\netCDF4\\_netCDF4.pyx:1532\u001B[0m, in \u001B[0;36mnetCDF4._netCDF4._get_att\u001B[1;34m()\u001B[0m\n",
      "File \u001B[1;32msrc\\netCDF4\\_netCDF4.pyx:2028\u001B[0m, in \u001B[0;36mnetCDF4._netCDF4._ensure_nc_success\u001B[1;34m()\u001B[0m\n",
      "\u001B[1;31mAttributeError\u001B[0m: NetCDF: Not a valid ID"
     ]
    }
   ],
   "execution_count": 5
  },
  {
   "metadata": {
    "ExecuteTime": {
     "end_time": "2024-11-13T03:49:39.641485Z",
     "start_time": "2024-11-13T03:49:39.607201Z"
    }
   },
   "cell_type": "code",
   "source": [
    "import netCDF4 as nc\n",
    "\n",
    "# 打开NetCDF文件\n",
    " # 请确保路径正确\n",
    "try:\n",
    "    dataset = nc.Dataset(file_path, 'r')\n",
    "    print(\"可用的变量名:\", dataset.variables.keys())  # 打印所有变量名\n",
    "\n",
    "    # 查找纬度和经度变量\n",
    "    lat_var_name = None\n",
    "    lon_var_name = None\n",
    "    for var_name in dataset.variables.keys():\n",
    "        if 'lat' in var_name.lower():  # 假设纬度变量名中包含'lat'\n",
    "            lat_var_name = var_name\n",
    "        elif 'lon' in var_name.lower() or 'long' in var_name.lower():  # 假设经度变量名中包含'lon'或'long'\n",
    "            lon_var_name = var_name\n",
    "\n",
    "    if lat_var_name is None or lon_var_name is None:\n",
    "        raise ValueError(\"没有找到纬度或经度变量\")\n",
    "\n",
    "    # 读取纬度和经度数据\n",
    "    lat_var = dataset.variables[lat_var_name]\n",
    "    lon_var = dataset.variables[lon_var_name]\n",
    "\n",
    "    # 检查变量类型\n",
    "    print(\"纬度变量类型:\", type(lat_var))\n",
    "    print(\"经度变量类型:\", type(lon_var))\n",
    "\n",
    "    # 尝试获取纬度和经度的范围（这里可能需要额外的错误处理）\n",
    "    try:\n",
    "        lat_min = lat_var[:].min()  # 注意这里的[:]用于获取数据数组\n",
    "        lat_max = lat_var[:].max()\n",
    "        lon_min = lon_var[:].min()\n",
    "        lon_max = lon_var[:].max()\n",
    "\n",
    "        # 输出经纬度范围\n",
    "        print(f\"纬度范围: {lat_min}° 到 {lat_max}°\")\n",
    "        print(f\"经度范围: {lon_min}° 到 {lon_max}°\")\n",
    "    except Exception as e:\n",
    "        print(\"在获取经纬度范围时出错:\", e)\n",
    "\n",
    "finally:\n",
    "    # 关闭NetCDF文件\n",
    "    dataset.close()"
   ],
   "id": "c0d687ba4e3a6c4b",
   "outputs": [
    {
     "name": "stdout",
     "output_type": "stream",
     "text": [
      "可用的变量名: dict_keys(['time', 'latitude', 'longitude', 'Hm0', 'hm0a', 'hm0b', 'hmax', 'tm02', 'tm02a', 'tm02b', 'tp', 'thmax', 'tm01', 'thhf', 'mdir', 'mdira', 'mdirb', 'thtp', 'sprtp'])\n",
      "纬度变量类型: <class 'netCDF4._netCDF4.Variable'>\n",
      "经度变量类型: <class 'netCDF4._netCDF4.Variable'>\n",
      "纬度范围: 62.38923073° 到 62.39497185°\n",
      "经度范围: 6.04452133° 到 6.05487823°\n"
     ]
    }
   ],
   "execution_count": 6
  },
  {
   "metadata": {
    "ExecuteTime": {
     "end_time": "2024-11-14T03:44:39.779653Z",
     "start_time": "2024-11-14T03:44:39.751652Z"
    }
   },
   "cell_type": "code",
   "source": [
    "import netCDF4 as nc\n",
    "# 打开下载的nc文件\n",
    "file_path = r'E:\\Dataset\\met_waves\\202001_E39_C1_Sulafjorden_wave.nc'  # 替换为你的nc文件路径\n",
    "dataset = nc.Dataset(file_path, 'r')\n",
    "# 打开NetCDF文件\n",
    " # 请确保路径正确\n",
    "try:\n",
    "    dataset = nc.Dataset(file_path, 'r')\n",
    "    print(\"可用的变量名:\", dataset.variables.keys())  # 打印所有变量名\n",
    "\n",
    "    # 查找纬度和经度变量\n",
    "    lat_var_name = None\n",
    "    lon_var_name = None\n",
    "    for var_name in dataset.variables.keys():\n",
    "        if 'lat' in var_name.lower():  # 假设纬度变量名中包含'lat'\n",
    "            lat_var_name = var_name\n",
    "        elif 'lon' in var_name.lower() or 'long' in var_name.lower():  # 假设经度变量名中包含'lon'或'long'\n",
    "            lon_var_name = var_name\n",
    "\n",
    "    if lat_var_name is None or lon_var_name is None:\n",
    "        raise ValueError(\"没有找到纬度或经度变量\")\n",
    "\n",
    "    # 读取纬度和经度数据\n",
    "    lat_var = dataset.variables[lat_var_name]\n",
    "    lon_var = dataset.variables[lon_var_name]\n",
    "\n",
    "    # 检查变量类型\n",
    "    print(\"纬度变量类型:\", type(lat_var))\n",
    "    print(\"经度变量类型:\", type(lon_var))\n",
    "\n",
    "    # 尝试获取纬度和经度的范围（这里可能需要额外的错误处理）\n",
    "    try:\n",
    "        lat_min = lat_var[:].min()  # 注意这里的[:]用于获取数据数组\n",
    "        lat_max = lat_var[:].max()\n",
    "        lon_min = lon_var[:].min()\n",
    "        lon_max = lon_var[:].max()\n",
    "\n",
    "        # 输出经纬度范围\n",
    "        print(f\"纬度范围: {lat_min}° 到 {lat_max}°\")\n",
    "        print(f\"经度范围: {lon_min}° 到 {lon_max}°\")\n",
    "    except Exception as e:\n",
    "        print(\"在获取经纬度范围时出错:\", e)\n",
    "\n",
    "finally:\n",
    "    # 关闭NetCDF文件\n",
    "    dataset.close()"
   ],
   "id": "151ac4a850c4ed79",
   "outputs": [
    {
     "name": "stdout",
     "output_type": "stream",
     "text": [
      "可用的变量名: dict_keys(['time', 'latitude', 'longitude', 'Hm0', 'hm0a', 'hm0b', 'hmax', 'tm02', 'tm02a', 'tm02b', 'tp', 'thmax', 'tm01', 'thhf', 'mdir', 'mdira', 'mdirb', 'thtp', 'sprtp'])\n",
      "纬度变量类型: <class 'netCDF4._netCDF4.Variable'>\n",
      "经度变量类型: <class 'netCDF4._netCDF4.Variable'>\n",
      "纬度范围: 62.39447594° 到 62.39890099°\n",
      "经度范围: 6.0417366° 到 6.04974747°\n"
     ]
    }
   ],
   "execution_count": 7
  },
  {
   "metadata": {
    "ExecuteTime": {
     "end_time": "2024-11-13T12:44:48.887271Z",
     "start_time": "2024-11-13T12:44:46.589189Z"
    }
   },
   "cell_type": "code",
   "source": [
    "import xarray as xr\n",
    "\n",
    "# 打开NetCDF文件\n",
    "ds = xr.open_dataset(r'E:\\Dataset\\met_waves\\202001_E39_C_Sulafjorden_wave.nc')\n",
    "\n",
    "# 获取纬度和经度\n",
    "lat = ds['latitude'].values\n",
    "lon = ds['longitude'].values\n",
    "\n",
    "# 计算分辨率\n",
    "lat_resolution = abs(lat[1] - lat[0])\n",
    "lon_resolution = abs(lon[1] - lon[0])\n",
    "\n",
    "print(f\"纬度分辨率: {lat_resolution} 度\")\n",
    "print(f\"经度分辨率: {lon_resolution} 度\")\n"
   ],
   "id": "32fed2866c2f4f8a",
   "outputs": [
    {
     "name": "stdout",
     "output_type": "stream",
     "text": [
      "纬度分辨率: 9.540000000640703e-06 度\n",
      "经度分辨率: 0.0001144400000008261 度\n"
     ]
    }
   ],
   "execution_count": 7
  },
  {
   "metadata": {
    "ExecuteTime": {
     "end_time": "2024-11-13T12:50:07.165984Z",
     "start_time": "2024-11-13T12:50:07.129487Z"
    }
   },
   "cell_type": "code",
   "source": [
    "\n",
    "# 获取时间数据\n",
    "time = ds['time']\n",
    "\n",
    "# 计算时间差\n",
    "time_diff = time.diff('time')\n",
    "\n",
    "# 查看时间差的第一个值，即为时间分辨率\n",
    "time_resolution = time_diff.mean().values\n",
    "\n",
    "print(f\"时间分辨率: {time_resolution}\")\n"
   ],
   "id": "85e66d880084837e",
   "outputs": [
    {
     "name": "stdout",
     "output_type": "stream",
     "text": [
      "时间分辨率: 600000000000 nanoseconds\n"
     ]
    }
   ],
   "execution_count": 8
  },
  {
   "metadata": {
    "ExecuteTime": {
     "end_time": "2024-11-14T11:32:01.184149Z",
     "start_time": "2024-11-14T11:32:00.982833Z"
    }
   },
   "cell_type": "code",
   "source": [
    "import netCDF4\n",
    "import numpy as np\n",
    "\n",
    "# 定义读取 NetCDF 文件并提取经纬度信息的函数\n",
    "def get_grid_resolution(nc_file):\n",
    "    # 打开 NetCDF 文件\n",
    "    dataset = netCDF4.Dataset(nc_file, 'r')\n",
    "    \n",
    "    # 获取经纬度数据\n",
    "    latitudes = dataset.variables['latitude'][:]\n",
    "    longitudes = dataset.variables['longitude'][:]\n",
    "    \n",
    "    # 计算纬度和经度的最小值、最大值和间隔\n",
    "    lat_min, lat_max = np.min(latitudes), np.max(latitudes)\n",
    "    lon_min, lon_max = np.min(longitudes), np.max(longitudes)\n",
    "    \n",
    "    lat_res = latitudes[1] - latitudes[0]  # 纬度分辨率\n",
    "    lon_res = longitudes[1] - longitudes[0]  # 经度分辨率\n",
    "    \n",
    "    # 输出结果\n",
    "    print(f\"Latitude Range: {lat_min} to {lat_max}\")\n",
    "    print(f\"Longitude Range: {lon_min} to {lon_max}\")\n",
    "    print(f\"Latitude Resolution: {lat_res} degrees\")\n",
    "    print(f\"Longitude Resolution: {lon_res} degrees\")\n",
    "    \n",
    "    return lat_res, lon_res\n",
    "\n",
    "# 你的 NetCDF 文件路径\n",
    "nc_file = r'E:\\Dataset\\met_waves\\202001_E39_C_Sulafjorden_wave.nc'  # 修改为你的文件路径\n",
    "\n",
    "# 获取并打印网格分辨率\n",
    "get_grid_resolution(nc_file)\n"
   ],
   "id": "ae0dee62085e464f",
   "outputs": [
    {
     "name": "stdout",
     "output_type": "stream",
     "text": [
      "Latitude Range: 62.38923073 to 62.39497185\n",
      "Longitude Range: 6.04452133 to 6.05487823\n",
      "Latitude Resolution: 9.540000000640703e-06 degrees\n",
      "Longitude Resolution: 0.0001144400000008261 degrees\n"
     ]
    },
    {
     "data": {
      "text/plain": [
       "(9.540000000640703e-06, 0.0001144400000008261)"
      ]
     },
     "execution_count": 8,
     "metadata": {},
     "output_type": "execute_result"
    }
   ],
   "execution_count": 8
  },
  {
   "metadata": {
    "ExecuteTime": {
     "end_time": "2024-11-14T11:36:37.370433Z",
     "start_time": "2024-11-14T11:36:37.350990Z"
    }
   },
   "cell_type": "code",
   "source": [
    "import numpy as np\n",
    "\n",
    "# 地球半径：111公里，换算成米\n",
    "earth_radius = 6371  # 地球半径（单位：km）\n",
    "lat_res_target = 250 / 111000  # 纬度分辨率，单位度\n",
    "latitude = 62.3  # 假设的纬度（单位：度）\n",
    "\n",
    "# 计算经度的分辨率\n",
    "lon_res_target = 250 / (111000 * np.cos(np.radians(latitude)))  # 经度分辨率，单位度\n",
    "\n",
    "print(f\"Target Latitude Resolution: {lat_res_target} degrees\")\n",
    "print(f\"Target Longitude Resolution: {lon_res_target} degrees\")\n"
   ],
   "id": "fb57404d6ac49974",
   "outputs": [
    {
     "name": "stdout",
     "output_type": "stream",
     "text": [
      "Target Latitude Resolution: 0.0022522522522522522 degrees\n",
      "Target Longitude Resolution: 0.004845199079918266 degrees\n"
     ]
    }
   ],
   "execution_count": 9
  },
  {
   "metadata": {
    "ExecuteTime": {
     "end_time": "2024-11-14T14:11:00.032988Z",
     "start_time": "2024-11-14T14:10:59.895849Z"
    }
   },
   "cell_type": "code",
   "source": [
    "import netCDF4\n",
    "\n",
    "# 打开 NetCDF 文件\n",
    "nc_file = r'E:\\Dataset\\met_waves\\202001_E39_C_Sulafjorden_wave.nc'\n",
    "dataset = netCDF4.Dataset(nc_file, 'r')\n",
    "\n",
    "# 获取纬度和经度的数据\n",
    "latitudes = dataset.variables['latitude'][:]\n",
    "longitudes = dataset.variables['longitude'][:]\n",
    "\n",
    "# 获取纬度和经度的网格数\n",
    "num_latitude = len(latitudes)\n",
    "num_longitude = len(longitudes)\n",
    "\n",
    "# 输出网格数\n",
    "total_grids = num_latitude * num_longitude\n",
    "print(f\"Total number of grids: {total_grids} (Latitude: {num_latitude}, Longitude: {num_longitude})\")\n"
   ],
   "id": "4104d32f115e159f",
   "outputs": [
    {
     "name": "stdout",
     "output_type": "stream",
     "text": [
      "Total number of grids: 19927296 (Latitude: 4464, Longitude: 4464)\n"
     ]
    }
   ],
   "execution_count": 13
  },
  {
   "metadata": {
    "ExecuteTime": {
     "end_time": "2024-11-14T11:37:54.016448Z",
     "start_time": "2024-11-14T11:37:39.713732Z"
    }
   },
   "cell_type": "code",
   "source": [
    "import netCDF4\n",
    "import numpy as np\n",
    "from scipy import interpolate\n",
    "import matplotlib.pyplot as plt\n",
    "\n",
    "# 打开NetCDF文件\n",
    "nc_file = r'E:\\Dataset\\met_waves\\202001_E39_C_Sulafjorden_wave.nc'  # 修改为你的文件路径\n",
    "\n",
    "dataset = netCDF4.Dataset(nc_file, 'r')\n",
    "\n",
    "# 获取经纬度数据\n",
    "latitudes = dataset.variables['latitude'][:]\n",
    "longitudes = dataset.variables['longitude'][:]\n",
    "\n",
    "# 假设你有某个变量需要重新网格化，比如 'Hm0'（有效波高）\n",
    "original_data = dataset.variables['Hm0'][:]\n",
    "\n",
    "# 计算新网格的维度\n",
    "lat_min, lat_max = np.min(latitudes), np.max(latitudes)\n",
    "lon_min, lon_max = np.min(longitudes), np.max(longitudes)\n",
    "\n",
    "# 根据目标分辨率计算新网格的纬度和经度\n",
    "new_lat_res = 250 / 111000  # 新的纬度分辨率\n",
    "new_lon_res = 250 / (111000 * np.cos(np.radians(np.mean(latitudes))))  # 新的经度分辨率\n",
    "\n",
    "# 计算新网格的经纬度范围\n",
    "new_latitudes = np.arange(lat_min, lat_max, new_lat_res)\n",
    "new_longitudes = np.arange(lon_min, lon_max, new_lon_res)\n",
    "\n",
    "# 使用插值函数将数据从原始网格转换为新网格\n",
    "interp_func = interpolate.interp2d(longitudes, latitudes, original_data, kind='linear', fill_value='extrapolate')\n",
    "new_data = interp_func(new_longitudes, new_latitudes)\n",
    "\n",
    "# 可视化结果\n",
    "plt.imshow(new_data, extent=(lon_min, lon_max, lat_min, lat_max), origin='lower')\n",
    "plt.colorbar(label='Hm0 (m)')\n",
    "plt.title('Resampled Data (250m x 250m Grid)')\n",
    "plt.xlabel('Longitude')\n",
    "plt.ylabel('Latitude')\n",
    "plt.show()\n"
   ],
   "id": "da276f6c335b2f6d",
   "outputs": [
    {
     "name": "stderr",
     "output_type": "stream",
     "text": [
      "C:\\Users\\86156\\AppData\\Local\\Temp\\ipykernel_23464\\1275167684.py:31: DeprecationWarning: `interp2d` is deprecated!\n",
      "`interp2d` is deprecated in SciPy 1.10 and will be removed in SciPy 1.12.0.\n",
      "\n",
      "For legacy code, nearly bug-for-bug compatible replacements are\n",
      "`RectBivariateSpline` on regular grids, and `bisplrep`/`bisplev` for\n",
      "scattered 2D data.\n",
      "\n",
      "In new code, for regular grids use `RegularGridInterpolator` instead.\n",
      "For scattered data, prefer `LinearNDInterpolator` or\n",
      "`CloughTocher2DInterpolator`.\n",
      "\n",
      "For more details see\n",
      "`https://gist.github.com/ev-br/8544371b40f414b7eaf3fe6217209bff`\n",
      "\n",
      "  interp_func = interpolate.interp2d(longitudes, latitudes, original_data, kind='linear', fill_value='extrapolate')\n",
      "D:\\CondaEnvs\\torchtmp\\lib\\site-packages\\scipy\\interpolate\\_fitpack_impl.py:975: RuntimeWarning: No more knots can be added because the number of B-spline\n",
      "coefficients already exceeds the number of data points m.\n",
      "Probable causes: either s or m too small. (fp>s)\n",
      "\tkx,ky=1,1 nx,ny=71,67 m=4464 fp=7.705221 s=0.000000\n",
      "  warnings.warn(RuntimeWarning(_iermess2[ierm][0] + _mess))\n",
      "C:\\Users\\86156\\AppData\\Local\\Temp\\ipykernel_23464\\1275167684.py:32: DeprecationWarning:         `interp2d` is deprecated!\n",
      "        `interp2d` is deprecated in SciPy 1.10 and will be removed in SciPy 1.12.0.\n",
      "\n",
      "        For legacy code, nearly bug-for-bug compatible replacements are\n",
      "        `RectBivariateSpline` on regular grids, and `bisplrep`/`bisplev` for\n",
      "        scattered 2D data.\n",
      "\n",
      "        In new code, for regular grids use `RegularGridInterpolator` instead.\n",
      "        For scattered data, prefer `LinearNDInterpolator` or\n",
      "        `CloughTocher2DInterpolator`.\n",
      "\n",
      "        For more details see\n",
      "        `https://gist.github.com/ev-br/8544371b40f414b7eaf3fe6217209bff`\n",
      "\n",
      "  new_data = interp_func(new_longitudes, new_latitudes)\n"
     ]
    },
    {
     "data": {
      "text/plain": [
       "<Figure size 640x480 with 2 Axes>"
      ],
      "image/png": "[encoded data removed]"
     },
     "metadata": {},
     "output_type": "display_data"
    }
   ],
   "execution_count": 12
  },
  {
   "metadata": {
    "ExecuteTime": {
     "end_time": "2024-11-14T14:32:20.417494Z",
     "start_time": "2024-11-14T14:31:48.380205Z"
    }
   },
   "cell_type": "code",
   "source": [
    "import numpy as np\n",
    "import xarray as xr\n",
    "import netCDF4\n",
    "from scipy import interpolate\n",
    "import matplotlib.pyplot as plt\n",
    "\n",
    "# 打开 NetCDF 文件\n",
    "# nc_file = '/path/to/your/file.nc'\n",
    "dataset = netCDF4.Dataset(nc_file, 'r')\n",
    "\n",
    "# 获取原始数据\n",
    "latitude = dataset.variables['latitude'][:]\n",
    "longitude = dataset.variables['longitude'][:]\n",
    "Hm0 = dataset.variables['Hm0'][:]\n",
    "tm02 = dataset.variables['tm02'][:]\n",
    "mdir = dataset.variables['mdir'][:]\n",
    "\n",
    "# 获取原始经纬度网格\n",
    "lat_min, lat_max = np.min(latitude), np.max(latitude)\n",
    "lon_min, lon_max = np.min(longitude), np.max(longitude)\n",
    "\n",
    "# 原始经纬度分辨率（假设从数据中获取）\n",
    "lat_res = (lat_max - lat_min) / (len(latitude) - 1)\n",
    "lon_res = (lon_max - lon_min) / (len(longitude) - 1)\n",
    "\n",
    "# 计算目标经纬度网格（250米对应的度数）\n",
    "target_lat_res = 250 / 111320  # 转换为度数 (1度大约等于 111320 米)\n",
    "target_lon_res = 250 / (111320 * np.cos(np.deg2rad(np.mean(latitude))))  # 考虑经度的变化\n",
    "\n",
    "# 生成目标经纬度网格\n",
    "target_lat = np.arange(lat_min, lat_max, target_lat_res)\n",
    "target_lon = np.arange(lon_min, lon_max, target_lon_res)\n",
    "\n",
    "# 创建插值函数\n",
    "def interpolate_data(original_lat, original_lon, original_data, target_lat, target_lon):\n",
    "    # 使用scipy的2D插值\n",
    "    interp_func = interpolate.interp2d(original_lon, original_lat, original_data, kind='linear', fill_value=np.nan)\n",
    "    return interp_func(target_lon, target_lat)\n",
    "\n",
    "# 对每个变量进行插值\n",
    "Hm0_interp = interpolate_data(latitude, longitude, Hm0, target_lat, target_lon)\n",
    "tm02_interp = interpolate_data(latitude, longitude, tm02, target_lat, target_lon)\n",
    "mdir_interp = interpolate_data(latitude, longitude, mdir, target_lat, target_lon)\n",
    "\n",
    "# 创建xarray DataArray，方便保存和后续操作\n",
    "interp_data = xr.Dataset(\n",
    "    {\n",
    "        'Hm0': (['lat', 'lon'], Hm0_interp),\n",
    "        'tm02': (['lat', 'lon'], tm02_interp),\n",
    "        'mdir': (['lat', 'lon'], mdir_interp),\n",
    "    },\n",
    "    coords={\n",
    "        'lat': target_lat,\n",
    "        'lon': target_lon\n",
    "    }\n",
    ")\n",
    "\n",
    "# 保存插值结果到新的 NetCDF 文件\n",
    "interp_data.to_netcdf('E:\\Dataset\\met_waves\\modifiedData\\interpolated_data.nc')\n",
    "\n",
    "# 可选：显示插值后的数据（例如 Hm0）\n",
    "plt.imshow(Hm0_interp, extent=(lon_min, lon_max, lat_min, lat_max), origin='lower', aspect='auto')\n",
    "plt.colorbar(label=\"Significant Wave Height (Hm0) in meters\")\n",
    "plt.title(\"Interpolated Hm0 (Significant Wave Height)\")\n",
    "plt.show()\n",
    "\n"
   ],
   "id": "31c9d95438adb886",
   "outputs": [
    {
     "name": "stderr",
     "output_type": "stream",
     "text": [
      "C:\\Users\\86156\\AppData\\Local\\Temp\\ipykernel_23464\\3540075873.py:37: DeprecationWarning: `interp2d` is deprecated!\n",
      "`interp2d` is deprecated in SciPy 1.10 and will be removed in SciPy 1.12.0.\n",
      "\n",
      "For legacy code, nearly bug-for-bug compatible replacements are\n",
      "`RectBivariateSpline` on regular grids, and `bisplrep`/`bisplev` for\n",
      "scattered 2D data.\n",
      "\n",
      "In new code, for regular grids use `RegularGridInterpolator` instead.\n",
      "For scattered data, prefer `LinearNDInterpolator` or\n",
      "`CloughTocher2DInterpolator`.\n",
      "\n",
      "For more details see\n",
      "`https://gist.github.com/ev-br/8544371b40f414b7eaf3fe6217209bff`\n",
      "\n",
      "  interp_func = interpolate.interp2d(original_lon, original_lat, original_data, kind='linear', fill_value=np.nan)\n",
      "D:\\CondaEnvs\\torchtmp\\lib\\site-packages\\scipy\\interpolate\\_fitpack_impl.py:975: RuntimeWarning: No more knots can be added because the number of B-spline\n",
      "coefficients already exceeds the number of data points m.\n",
      "Probable causes: either s or m too small. (fp>s)\n",
      "\tkx,ky=1,1 nx,ny=71,67 m=4464 fp=7.705221 s=0.000000\n",
      "  warnings.warn(RuntimeWarning(_iermess2[ierm][0] + _mess))\n",
      "C:\\Users\\86156\\AppData\\Local\\Temp\\ipykernel_23464\\3540075873.py:38: DeprecationWarning:         `interp2d` is deprecated!\n",
      "        `interp2d` is deprecated in SciPy 1.10 and will be removed in SciPy 1.12.0.\n",
      "\n",
      "        For legacy code, nearly bug-for-bug compatible replacements are\n",
      "        `RectBivariateSpline` on regular grids, and `bisplrep`/`bisplev` for\n",
      "        scattered 2D data.\n",
      "\n",
      "        In new code, for regular grids use `RegularGridInterpolator` instead.\n",
      "        For scattered data, prefer `LinearNDInterpolator` or\n",
      "        `CloughTocher2DInterpolator`.\n",
      "\n",
      "        For more details see\n",
      "        `https://gist.github.com/ev-br/8544371b40f414b7eaf3fe6217209bff`\n",
      "\n",
      "  return interp_func(target_lon, target_lat)\n",
      "D:\\CondaEnvs\\torchtmp\\lib\\site-packages\\scipy\\interpolate\\_fitpack_impl.py:975: RuntimeWarning: No more knots can be added because the number of B-spline\n",
      "coefficients already exceeds the number of data points m.\n",
      "Probable causes: either s or m too small. (fp>s)\n",
      "\tkx,ky=1,1 nx,ny=72,66 m=4464 fp=219.567742 s=0.000000\n",
      "  warnings.warn(RuntimeWarning(_iermess2[ierm][0] + _mess))\n",
      "D:\\CondaEnvs\\torchtmp\\lib\\site-packages\\scipy\\interpolate\\_fitpack_impl.py:975: RuntimeWarning: No more knots can be added because the number of B-spline\n",
      "coefficients already exceeds the number of data points m.\n",
      "Probable causes: either s or m too small. (fp>s)\n",
      "\tkx,ky=1,1 nx,ny=76,63 m=4464 fp=7929306.525813 s=0.000000\n",
      "  warnings.warn(RuntimeWarning(_iermess2[ierm][0] + _mess))\n"
     ]
    },
    {
     "data": {
      "text/plain": [
       "<Figure size 640x480 with 2 Axes>"
      ],
      "image/png": "[encoded data removed]"
     },
     "metadata": {},
     "output_type": "display_data"
    }
   ],
   "execution_count": 14
  },
  {
   "metadata": {
    "ExecuteTime": {
     "end_time": "2024-11-14T14:36:49.188318Z",
     "start_time": "2024-11-14T14:36:49.177550Z"
    }
   },
   "cell_type": "code",
   "source": [
    "import netCDF4\n",
    "\n",
    "# 打开 NetCDF 文件\n",
    "nc_file = r'E:\\Dataset\\met_waves\\modifiedData\\interpolated_data.nc'\n",
    "dataset = netCDF4.Dataset(nc_file, 'r')\n",
    "\n",
    "# 查看所有变量的名称\n",
    "print(dataset.variables.keys())\n"
   ],
   "id": "5a1fd08bfd849890",
   "outputs": [
    {
     "name": "stdout",
     "output_type": "stream",
     "text": [
      "dict_keys(['Hm0', 'tm02', 'mdir', 'lat', 'lon'])\n"
     ]
    }
   ],
   "execution_count": 16
  },
  {
   "metadata": {
    "ExecuteTime": {
     "end_time": "2024-11-14T14:37:03.832423Z",
     "start_time": "2024-11-14T14:37:03.819691Z"
    }
   },
   "cell_type": "code",
   "source": [
    "import netCDF4\n",
    "\n",
    "# 打开 NetCDF 文件\n",
    "nc_file = r'E:\\Dataset\\met_waves\\modifiedData\\interpolated_data.nc'\n",
    "dataset = netCDF4.Dataset(nc_file, 'r')\n",
    "\n",
    "# 获取纬度和经度的数据\n",
    "latitudes = dataset.variables['lat'][:]\n",
    "longitudes = dataset.variables['lon'][:]\n",
    "\n",
    "# 获取纬度和经度的网格数\n",
    "num_latitude = len(latitudes)\n",
    "num_longitude = len(longitudes)\n",
    "\n",
    "# 输出网格数\n",
    "total_grids = num_latitude * num_longitude\n",
    "print(f\"Total number of grids: {total_grids} (Latitude: {num_latitude}, Longitude: {num_longitude})\")\n"
   ],
   "id": "c4a2e77dacfb1dac",
   "outputs": [
    {
     "name": "stdout",
     "output_type": "stream",
     "text": [
      "Total number of grids: 9 (Latitude: 3, Longitude: 3)\n"
     ]
    }
   ],
   "execution_count": 17
  },
  {
   "metadata": {
    "ExecuteTime": {
     "end_time": "2024-11-14T15:06:30.546531Z",
     "start_time": "2024-11-14T15:06:18.852699Z"
    }
   },
   "cell_type": "code",
   "source": [
    "import netCDF4\n",
    "import numpy as np\n",
    "from scipy import interpolate\n",
    "import matplotlib.pyplot as plt\n",
    "\n",
    "# 打开 NetCDF 文件\n",
    "nc_file = r'E:\\Dataset\\met_waves\\202001_E39_C_Sulafjorden_wave.nc'\n",
    "dataset = netCDF4.Dataset(nc_file, 'r')\n",
    "# 获取有效波高（Hm0）数据\n",
    "variable_name = 'Hm0'  # 根据实际变量名修改\n",
    "wave_height = dataset.variables[variable_name][:]\n",
    "# 打印波高数据\n",
    "print(f\"波高数据 ({variable_name}):\")\n",
    "print(wave_height)\n",
    "\n",
    "# 如果数据太大，打印部分数据进行检查\n",
    "print(f\"波高数据的形状: {wave_height.shape}\")\n",
    "print(f\"波高数据的前几项：\")\n",
    "print(wave_height[:10])  # 打印前10项\n",
    "# 读取纬度和经度\n",
    "latitudes = dataset.variables['latitude'][:]\n",
    "longitudes = dataset.variables['longitude'][:]\n",
    "\n",
    "# 获取原始数据的维度\n",
    "original_lat_size = len(latitudes)\n",
    "original_lon_size = len(longitudes)\n",
    "\n",
    "# 定义目标网格大小\n",
    "target_lat_size = 128\n",
    "target_lon_size = 128\n",
    "\n",
    "# 创建目标网格\n",
    "target_lat = np.linspace(latitudes.min(), latitudes.max(), target_lat_size)\n",
    "target_lon = np.linspace(longitudes.min(), longitudes.max(), target_lon_size)\n",
    "\n",
    "# 生成原始网格（这些是 1D 网格，分别表示纬度和经度）\n",
    "original_lat = np.linspace(latitudes.min(), latitudes.max(), original_lat_size)\n",
    "original_lon = np.linspace(longitudes.min(), longitudes.max(), original_lon_size)\n",
    "\n",
    "# 创建网格\n",
    "target_lat_grid, target_lon_grid = np.meshgrid(target_lat, target_lon)\n",
    "\n",
    "# 插值：假设数据是单一变量，我们可以使用插值方法对其进行降采样\n",
    "# 假设你要插值的变量是 Hm0（有效波高），类似的也可以应用到其他变量\n",
    "variable_name = 'Hm0'  # 修改为实际的变量名\n",
    "variable_data = dataset.variables[variable_name][:]\n",
    "\n",
    "# 使用 `scipy.interpolate.interp2d` 进行双线性插值\n",
    "interpolator = interpolate.interp2d(original_lon, original_lat, variable_data, kind='linear')\n",
    "\n",
    "# 对目标网格进行插值\n",
    "interpolated_data = interpolator(target_lon, target_lat)\n",
    "\n",
    "# 可视化插值后的数据\n",
    "plt.figure(figsize=(8, 6))\n",
    "plt.contourf(target_lon_grid, target_lat_grid, interpolated_data, cmap='viridis')\n",
    "plt.colorbar(label='Wave Height (m)')  # 根据实际数据修改\n",
    "plt.title(f'Interpolated {variable_name} Data (128x128 Grid)')\n",
    "plt.xlabel('Longitude')\n",
    "plt.ylabel('Latitude')\n",
    "plt.show()\n",
    "\n",
    "# 输出网格大小\n",
    "print(f\"Original grid size: {original_lat_size} x {original_lon_size}\")\n",
    "print(f\"Target grid size: {target_lat_size} x {target_lon_size}\")\n",
    "# 获取有效波高（Hm0）数据\n",
    "variable_name = 'Hm0'  # 根据实际变量名修改\n",
    "wave_height = dataset.variables[variable_name][:]\n",
    "# 打印波高数据\n",
    "print(f\"波高数据 ({variable_name}):\")\n",
    "print(wave_height)\n",
    "\n",
    "# 如果数据太大，打印部分数据进行检查\n",
    "print(f\"波高数据的形状: {wave_height.shape}\")\n",
    "print(f\"波高数据的前几项：\")\n",
    "print(wave_height[:10])  # 打印前10项"
   ],
   "id": "92539bbc8f8752da",
   "outputs": [
    {
     "name": "stdout",
     "output_type": "stream",
     "text": [
      "波高数据 (Hm0):\n",
      "[0.60059 0.58594 0.60059 ... 0.23438 0.23438 0.24902]\n",
      "波高数据的形状: (4464,)\n",
      "波高数据的前几项：\n",
      "[0.60059 0.58594 0.60059 0.62988 0.67383 0.67383 0.61523 0.58594 0.55664\n",
      " 0.52734]\n"
     ]
    },
    {
     "name": "stderr",
     "output_type": "stream",
     "text": [
      "C:\\Users\\86156\\AppData\\Local\\Temp\\ipykernel_23464\\1473322937.py:49: DeprecationWarning: `interp2d` is deprecated!\n",
      "`interp2d` is deprecated in SciPy 1.10 and will be removed in SciPy 1.12.0.\n",
      "\n",
      "For legacy code, nearly bug-for-bug compatible replacements are\n",
      "`RectBivariateSpline` on regular grids, and `bisplrep`/`bisplev` for\n",
      "scattered 2D data.\n",
      "\n",
      "In new code, for regular grids use `RegularGridInterpolator` instead.\n",
      "For scattered data, prefer `LinearNDInterpolator` or\n",
      "`CloughTocher2DInterpolator`.\n",
      "\n",
      "For more details see\n",
      "`https://gist.github.com/ev-br/8544371b40f414b7eaf3fe6217209bff`\n",
      "\n",
      "  interpolator = interpolate.interp2d(original_lon, original_lat, variable_data, kind='linear')\n",
      "C:\\Users\\86156\\AppData\\Local\\Temp\\ipykernel_23464\\1473322937.py:52: DeprecationWarning:         `interp2d` is deprecated!\n",
      "        `interp2d` is deprecated in SciPy 1.10 and will be removed in SciPy 1.12.0.\n",
      "\n",
      "        For legacy code, nearly bug-for-bug compatible replacements are\n",
      "        `RectBivariateSpline` on regular grids, and `bisplrep`/`bisplev` for\n",
      "        scattered 2D data.\n",
      "\n",
      "        In new code, for regular grids use `RegularGridInterpolator` instead.\n",
      "        For scattered data, prefer `LinearNDInterpolator` or\n",
      "        `CloughTocher2DInterpolator`.\n",
      "\n",
      "        For more details see\n",
      "        `https://gist.github.com/ev-br/8544371b40f414b7eaf3fe6217209bff`\n",
      "\n",
      "  interpolated_data = interpolator(target_lon, target_lat)\n"
     ]
    },
    {
     "data": {
      "text/plain": [
       "<Figure size 800x600 with 2 Axes>"
      ],
      "image/png": "[encoded data removed]"
     },
     "metadata": {},
     "output_type": "display_data"
    },
    {
     "name": "stdout",
     "output_type": "stream",
     "text": [
      "Original grid size: 4464 x 4464\n",
      "Target grid size: 128 x 128\n",
      "波高数据 (Hm0):\n",
      "[0.60059 0.58594 0.60059 ... 0.23438 0.23438 0.24902]\n",
      "波高数据的形状: (4464,)\n",
      "波高数据的前几项：\n",
      "[0.60059 0.58594 0.60059 0.62988 0.67383 0.67383 0.61523 0.58594 0.55664\n",
      " 0.52734]\n"
     ]
    }
   ],
   "execution_count": 21
  },
  {
   "metadata": {},
   "cell_type": "code",
   "outputs": [],
   "execution_count": null,
   "source": "",
   "id": "e79664e3bbab37b1"
  }
 ],
 "metadata": {
  "kernelspec": {
   "display_name": "Python 3",
   "language": "python",
   "name": "python3"
  },
  "language_info": {
   "codemirror_mode": {
    "name": "ipython",
    "version": 2
   },
   "file_extension": ".py",
   "mimetype": "text/x-python",
   "name": "python",
   "nbconvert_exporter": "python",
   "pygments_lexer": "ipython2",
   "version": "2.7.6"
  }
 },
 "nbformat": 4,
 "nbformat_minor": 5
}
